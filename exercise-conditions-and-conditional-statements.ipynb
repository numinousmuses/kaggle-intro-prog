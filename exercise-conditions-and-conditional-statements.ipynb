{
 "cells": [
  {
   "cell_type": "markdown",
   "id": "7ab1d101",
   "metadata": {
    "papermill": {
     "duration": 0.010407,
     "end_time": "2022-08-10T18:39:12.187013",
     "exception": false,
     "start_time": "2022-08-10T18:39:12.176606",
     "status": "completed"
    },
    "tags": []
   },
   "source": [
    "**This notebook is an exercise in the [Intro to Programming](https://www.kaggle.com/learn/intro-to-programming) course.  You can reference the tutorial at [this link](https://www.kaggle.com/alexisbcook/conditions-and-conditional-statements).**\n",
    "\n",
    "---\n"
   ]
  },
  {
   "cell_type": "markdown",
   "id": "b4b46fea",
   "metadata": {
    "papermill": {
     "duration": 0.007188,
     "end_time": "2022-08-10T18:39:12.202166",
     "exception": false,
     "start_time": "2022-08-10T18:39:12.194978",
     "status": "completed"
    },
    "tags": []
   },
   "source": [
    "In the tutorial, you learned about conditions and conditional statements. In this exercise, you will use what you learned to answer several questions.\n",
    "\n",
    "# Set up the notebook\n",
    "\n",
    "Run the next code cell without changes to set up the notebook."
   ]
  },
  {
   "cell_type": "code",
   "execution_count": 1,
   "id": "272da569",
   "metadata": {
    "execution": {
     "iopub.execute_input": "2022-08-10T18:39:12.218784Z",
     "iopub.status.busy": "2022-08-10T18:39:12.218317Z",
     "iopub.status.idle": "2022-08-10T18:39:12.277392Z",
     "shell.execute_reply": "2022-08-10T18:39:12.275602Z"
    },
    "papermill": {
     "duration": 0.072128,
     "end_time": "2022-08-10T18:39:12.281628",
     "exception": false,
     "start_time": "2022-08-10T18:39:12.209500",
     "status": "completed"
    },
    "tags": []
   },
   "outputs": [
    {
     "name": "stdout",
     "output_type": "stream",
     "text": [
      "Setup complete.\n"
     ]
    }
   ],
   "source": [
    "from learntools.core import binder\n",
    "binder.bind(globals())\n",
    "from learntools.intro_to_programming.ex4 import *\n",
    "print('Setup complete.')"
   ]
  },
  {
   "cell_type": "markdown",
   "id": "7267bda1",
   "metadata": {
    "papermill": {
     "duration": 0.006742,
     "end_time": "2022-08-10T18:39:12.296079",
     "exception": false,
     "start_time": "2022-08-10T18:39:12.289337",
     "status": "completed"
    },
    "tags": []
   },
   "source": [
    "# Question 1\n",
    "\n",
    "You work at a college admissions office.  When inspecting a dataset of college applicants, you notice that some students have represented their grades with letters (`\"A\"`, `\"B\"`, `\"C\"`, `\"D\"`, `\"F\"`), whereas others have represented their grades with a number between 0 and 100.\n",
    "\n",
    "You realize that for consistency, all of the grades should be formatted in the same way, and you decide to format them all as letters.  For the conversion, you decide to assign:\n",
    "- `\"A\"` - any grade 90-100, inclusive\n",
    "- `\"B\"` - any grade 80-89, inclusive\n",
    "- `\"C\"` - any grade 70-79, inclusive\n",
    "- `\"D\"` - any grade 60-69, inclusive\n",
    "- `\"F\"` - any grade <60\n",
    "\n",
    "Write a function `get_grade()` that takes as input:\n",
    "- `score` - an integer 0-100 corresponding to a numerical grade\n",
    "\n",
    "It should return a Python string with the letter grade that it corresponds to.  For instance,\n",
    "- A score of 85 corresponds to a B grade.  In other words, `get_grade(85)` should return `\"B\"`.\n",
    "- A score of 49 corresponds to an F grade.  In other words, `get_grade(49)` should return `\"F\"`.\n",
    "\n",
    "Make sure that when supplying the grade that is returned by the function, it is enclosed in quotes.  (For instance, if you want to return `\"A\"`, you should write `return \"A\"` and not `return A`.)"
   ]
  },
  {
   "cell_type": "code",
   "execution_count": 2,
   "id": "57930d82",
   "metadata": {
    "execution": {
     "iopub.execute_input": "2022-08-10T18:39:12.312695Z",
     "iopub.status.busy": "2022-08-10T18:39:12.311740Z",
     "iopub.status.idle": "2022-08-10T18:39:12.327126Z",
     "shell.execute_reply": "2022-08-10T18:39:12.325836Z"
    },
    "papermill": {
     "duration": 0.026755,
     "end_time": "2022-08-10T18:39:12.329870",
     "exception": false,
     "start_time": "2022-08-10T18:39:12.303115",
     "status": "completed"
    },
    "tags": []
   },
   "outputs": [
    {
     "data": {
      "application/javascript": [
       "parent.postMessage({\"jupyterEvent\": \"custom.exercise_interaction\", \"data\": {\"outcomeType\": 1, \"valueTowardsCompletion\": 0.2, \"interactionType\": 1, \"questionType\": 2, \"questionId\": \"1_GetGrade\", \"learnToolsVersion\": \"0.3.4\", \"failureMessage\": \"\", \"exceptionClass\": \"\", \"trace\": \"\"}}, \"*\")"
      ],
      "text/plain": [
       "<IPython.core.display.Javascript object>"
      ]
     },
     "metadata": {},
     "output_type": "display_data"
    },
    {
     "data": {
      "text/markdown": [
       "<span style=\"color:#33cc33\">Correct</span>"
      ],
      "text/plain": [
       "Correct"
      ]
     },
     "metadata": {},
     "output_type": "display_data"
    }
   ],
   "source": [
    "# TODO: Edit the function to return the correct grade for different scores\n",
    "def get_grade(score):\n",
    "    grade = \"A\"\n",
    "    if (score > 100 or score < 0):\n",
    "        return \"grade out of range\"\n",
    "    elif (80 <= score <= 89):\n",
    "        grade = \"B\"\n",
    "    elif (70 <= score <= 79):\n",
    "        grade = \"C\"\n",
    "    elif (60 <= score <= 69):\n",
    "        grade = \"D\"\n",
    "    elif (60 >= score):\n",
    "        grade = \"F\"\n",
    "    return grade\n",
    "    \n",
    "# Check your answer\n",
    "q1.check()"
   ]
  },
  {
   "cell_type": "code",
   "execution_count": 3,
   "id": "09bc246c",
   "metadata": {
    "execution": {
     "iopub.execute_input": "2022-08-10T18:39:12.347415Z",
     "iopub.status.busy": "2022-08-10T18:39:12.346620Z",
     "iopub.status.idle": "2022-08-10T18:39:12.351815Z",
     "shell.execute_reply": "2022-08-10T18:39:12.350567Z"
    },
    "papermill": {
     "duration": 0.016277,
     "end_time": "2022-08-10T18:39:12.354059",
     "exception": false,
     "start_time": "2022-08-10T18:39:12.337782",
     "status": "completed"
    },
    "tags": []
   },
   "outputs": [],
   "source": [
    "# Uncomment to see a hint\n",
    "#q1.hint()\n",
    "\n",
    "# Uncomment to see the solution\n",
    "#q1.solution()"
   ]
  },
  {
   "cell_type": "markdown",
   "id": "31a5bf40",
   "metadata": {
    "papermill": {
     "duration": 0.007593,
     "end_time": "2022-08-10T18:39:12.369167",
     "exception": false,
     "start_time": "2022-08-10T18:39:12.361574",
     "status": "completed"
    },
    "tags": []
   },
   "source": [
    "# Question 2\n",
    "\n",
    "In the exercise for the previous lesson, you wrote a function `cost_of_project()` that estimated the price of rings for an online shop that sells rings with custom engravings.  This function did not use conditional statements.  In this exercise, you will rewrite the function to use conditional statements.  Recall that the online shop has the following price structure:\n",
    "- Gold plated rings have a base cost of \\\\$50, and you charge \\\\$7 per engraved unit.  \n",
    "- Solid gold rings have a base cost of \\\\$100, and you charge \\\\$10 per engraved unit.\n",
    "- Spaces and punctuation are counted as engraved units.\n",
    "\n",
    "Your function `cost_of_project()` takes two arguments:\n",
    "- `engraving` - a Python string with the text of the engraving\n",
    "- `solid_gold` - a Boolean that indicates whether the ring is solid gold\n",
    "\n",
    "It should return the cost of the project.  \n",
    "\n",
    "The function has been partially completed for you, and you need to fill in the blanks to complete the function."
   ]
  },
  {
   "cell_type": "code",
   "execution_count": 4,
   "id": "6c6395e6",
   "metadata": {
    "execution": {
     "iopub.execute_input": "2022-08-10T18:39:12.386672Z",
     "iopub.status.busy": "2022-08-10T18:39:12.386204Z",
     "iopub.status.idle": "2022-08-10T18:39:12.397576Z",
     "shell.execute_reply": "2022-08-10T18:39:12.396231Z"
    },
    "papermill": {
     "duration": 0.023202,
     "end_time": "2022-08-10T18:39:12.400011",
     "exception": false,
     "start_time": "2022-08-10T18:39:12.376809",
     "status": "completed"
    },
    "tags": []
   },
   "outputs": [
    {
     "data": {
      "application/javascript": [
       "parent.postMessage({\"jupyterEvent\": \"custom.exercise_interaction\", \"data\": {\"outcomeType\": 1, \"valueTowardsCompletion\": 0.2, \"interactionType\": 1, \"questionType\": 2, \"questionId\": \"2_CostProjectPartDeux\", \"learnToolsVersion\": \"0.3.4\", \"failureMessage\": \"\", \"exceptionClass\": \"\", \"trace\": \"\"}}, \"*\")"
      ],
      "text/plain": [
       "<IPython.core.display.Javascript object>"
      ]
     },
     "metadata": {},
     "output_type": "display_data"
    },
    {
     "data": {
      "text/markdown": [
       "<span style=\"color:#33cc33\">Correct</span>"
      ],
      "text/plain": [
       "Correct"
      ]
     },
     "metadata": {},
     "output_type": "display_data"
    }
   ],
   "source": [
    "def cost_of_project(engraving, solid_gold):\n",
    "    if solid_gold == True:\n",
    "        cost = 100 + 10 * (len(engraving))\n",
    "    else:\n",
    "        cost = 50 + 7 * (len(engraving))\n",
    "    return cost\n",
    "\n",
    "# Check your answer\n",
    "q2.check()"
   ]
  },
  {
   "cell_type": "code",
   "execution_count": 5,
   "id": "d57a15cc",
   "metadata": {
    "execution": {
     "iopub.execute_input": "2022-08-10T18:39:12.418153Z",
     "iopub.status.busy": "2022-08-10T18:39:12.417750Z",
     "iopub.status.idle": "2022-08-10T18:39:12.422584Z",
     "shell.execute_reply": "2022-08-10T18:39:12.421522Z"
    },
    "papermill": {
     "duration": 0.016605,
     "end_time": "2022-08-10T18:39:12.424838",
     "exception": false,
     "start_time": "2022-08-10T18:39:12.408233",
     "status": "completed"
    },
    "tags": []
   },
   "outputs": [],
   "source": [
    "# Uncomment to see a hint\n",
    "#q2.hint()\n",
    "\n",
    "# Uncomment to see the solution\n",
    "#q2.solution()"
   ]
  },
  {
   "cell_type": "markdown",
   "id": "3ed9f132",
   "metadata": {
    "papermill": {
     "duration": 0.007722,
     "end_time": "2022-08-10T18:39:12.440557",
     "exception": false,
     "start_time": "2022-08-10T18:39:12.432835",
     "status": "completed"
    },
    "tags": []
   },
   "source": [
    "# Question 3\n",
    "\n",
    "You are a programmer at a water agency.  Recently, you have been tasked to write a function `get_water_bill()` that takes as input:\n",
    "- `num_gallons` = the number of gallons of water that a customer used that month.  (This will always be an integer with no decimal part.)\n",
    "\n",
    "It should output the water bill.  \n",
    "\n",
    "The water agency uses this pricing structure:\n",
    "<table style=\"width: 100%;\">\n",
    "<tbody>\n",
    "<tr><th><b>Tier</b></th><th><b>Amount in gallons</b></th><th><b>Price per 1000 gallons</b></th></tr>\n",
    "<tr>\n",
    "<td>Tier 1</td>\n",
    "<td>0 - 8,000</td>\n",
    "<td>\\$5</td>\n",
    "</tr>\n",
    "<tr>\n",
    "<td>Tier 2</td>\n",
    "<td>8,001 - 22,000</td>\n",
    "<td>\\$6</td>\n",
    "</tr>\n",
    "<tr>\n",
    "<td>Tier 3</td>\n",
    "<td>22,001 - 30,000</td>\n",
    "<td>\\$7</td>\n",
    "</tr>\n",
    "<tr>\n",
    "<td>Tier 4</td>\n",
    "<td>30,001+</td>\n",
    "<td>\\$10</td>\n",
    "</tr>\n",
    "</tbody>\n",
    "</table>\n",
    "\n",
    "For example: \n",
    "- Someone who uses 10,000 gallons of water in a month is placed in Tier 2, and needs to pay a water bill of \\\\$6 * 10 = \\\\$60.  In other words, `get_water_bill(10000)` should return `60.0`.\n",
    "- Someone who uses 25,000 gallons of water in a month is placed in Tier 3, and needs to pay a water bill of \\\\$7 * 25 = \\\\$175.  In other words, `get_water_bill(25000)` should return `175.0`.\n",
    "\n",
    "**Do not round your answer.**  So, your answer might return fractions of a penny."
   ]
  },
  {
   "cell_type": "code",
   "execution_count": 6,
   "id": "60bc800f",
   "metadata": {
    "execution": {
     "iopub.execute_input": "2022-08-10T18:39:12.458207Z",
     "iopub.status.busy": "2022-08-10T18:39:12.457828Z",
     "iopub.status.idle": "2022-08-10T18:39:12.470613Z",
     "shell.execute_reply": "2022-08-10T18:39:12.468675Z"
    },
    "papermill": {
     "duration": 0.025056,
     "end_time": "2022-08-10T18:39:12.473475",
     "exception": false,
     "start_time": "2022-08-10T18:39:12.448419",
     "status": "completed"
    },
    "tags": []
   },
   "outputs": [
    {
     "data": {
      "application/javascript": [
       "parent.postMessage({\"jupyterEvent\": \"custom.exercise_interaction\", \"data\": {\"outcomeType\": 1, \"valueTowardsCompletion\": 0.2, \"interactionType\": 1, \"questionType\": 2, \"questionId\": \"3_GetWaterBill\", \"learnToolsVersion\": \"0.3.4\", \"failureMessage\": \"\", \"exceptionClass\": \"\", \"trace\": \"\"}}, \"*\")"
      ],
      "text/plain": [
       "<IPython.core.display.Javascript object>"
      ]
     },
     "metadata": {},
     "output_type": "display_data"
    },
    {
     "data": {
      "text/markdown": [
       "<span style=\"color:#33cc33\">Correct</span>"
      ],
      "text/plain": [
       "Correct"
      ]
     },
     "metadata": {},
     "output_type": "display_data"
    }
   ],
   "source": [
    "# TODO: Edit the function to return the correct bill for different\n",
    "# values of num_gallons\n",
    "def get_water_bill(num_gallons):\n",
    "    price_gallons = num_gallons / 1000\n",
    "    bill = 1000\n",
    "    if num_gallons <= 8000:\n",
    "        bill = 5 * price_gallons\n",
    "    elif (8000 < num_gallons <= 22000):\n",
    "        bill = 6 * price_gallons\n",
    "    elif (22000 < num_gallons <= 30000):\n",
    "        bill = 7 * price_gallons\n",
    "    elif (30000 < num_gallons):\n",
    "        bill = 10 * price_gallons\n",
    "    return bill\n",
    "\n",
    "# Check your answer\n",
    "q3.check()"
   ]
  },
  {
   "cell_type": "code",
   "execution_count": 7,
   "id": "9eb68a3c",
   "metadata": {
    "execution": {
     "iopub.execute_input": "2022-08-10T18:39:12.492510Z",
     "iopub.status.busy": "2022-08-10T18:39:12.491101Z",
     "iopub.status.idle": "2022-08-10T18:39:12.497189Z",
     "shell.execute_reply": "2022-08-10T18:39:12.495954Z"
    },
    "papermill": {
     "duration": 0.018535,
     "end_time": "2022-08-10T18:39:12.499801",
     "exception": false,
     "start_time": "2022-08-10T18:39:12.481266",
     "status": "completed"
    },
    "tags": []
   },
   "outputs": [],
   "source": [
    "# Uncomment to see a hint\n",
    "#q3.hint()\n",
    "\n",
    "# Uncomment to see the solution\n",
    "#q3.solution()"
   ]
  },
  {
   "cell_type": "markdown",
   "id": "3135b793",
   "metadata": {
    "papermill": {
     "duration": 0.008178,
     "end_time": "2022-08-10T18:39:12.517021",
     "exception": false,
     "start_time": "2022-08-10T18:39:12.508843",
     "status": "completed"
    },
    "tags": []
   },
   "source": [
    "# Question 4\n",
    "\n",
    "You work for a company that provides data services.  For \\\\$100/month, your company provides 15 gigabytes (GB) of data.  Then, any additional data is billed at \\\\$0.10/MB (or \\\\$100/GB, since 1,000 MB are in 1 GB).\n",
    "\n",
    "Use the next code cell to write a function `get_phone_bill()` that takes as input:\n",
    "- `gb` = number of GB that the customer used in a month\n",
    "\n",
    "It should return the customer's total phone bill.\n",
    "\n",
    "For instance:\n",
    "- A customer who uses 10 GB of data in one month is billed only \\\\$100, since the usage stayed under 15 GB.  In other words, `get_phone_bill(10)` should return `100`.\n",
    "- A customer who uses 15.1 GB (or 15 GB + 100 MB) of data in one month has gone over by .1 GB, so they must pay \\\\$100 (cost of plan), plus \\\\$0.10 * 100 = \\\\$10, for a total bill of \\\\$110.  In other words, `get_phone_bill(15.1)` should return `110`.\n",
    "\n",
    "Do not round your answer."
   ]
  },
  {
   "cell_type": "code",
   "execution_count": 8,
   "id": "c9597000",
   "metadata": {
    "execution": {
     "iopub.execute_input": "2022-08-10T18:39:12.534924Z",
     "iopub.status.busy": "2022-08-10T18:39:12.534538Z",
     "iopub.status.idle": "2022-08-10T18:39:12.544247Z",
     "shell.execute_reply": "2022-08-10T18:39:12.542817Z"
    },
    "papermill": {
     "duration": 0.021788,
     "end_time": "2022-08-10T18:39:12.546943",
     "exception": false,
     "start_time": "2022-08-10T18:39:12.525155",
     "status": "completed"
    },
    "tags": []
   },
   "outputs": [
    {
     "data": {
      "application/javascript": [
       "parent.postMessage({\"jupyterEvent\": \"custom.exercise_interaction\", \"data\": {\"outcomeType\": 1, \"valueTowardsCompletion\": 0.2, \"interactionType\": 1, \"questionType\": 2, \"questionId\": \"4_GetPhoneBill\", \"learnToolsVersion\": \"0.3.4\", \"failureMessage\": \"\", \"exceptionClass\": \"\", \"trace\": \"\"}}, \"*\")"
      ],
      "text/plain": [
       "<IPython.core.display.Javascript object>"
      ]
     },
     "metadata": {},
     "output_type": "display_data"
    },
    {
     "data": {
      "text/markdown": [
       "<span style=\"color:#33cc33\">Correct</span>"
      ],
      "text/plain": [
       "Correct"
      ]
     },
     "metadata": {},
     "output_type": "display_data"
    }
   ],
   "source": [
    "# TODO: Edit the function to return the correct bill for different\n",
    "# values of GB\n",
    "def get_phone_bill(gb):\n",
    "    bill = 100\n",
    "    if gb > 15:\n",
    "        bill = 100 + (gb - 15) * 100\n",
    "    return bill\n",
    "\n",
    "# Check your answer\n",
    "q4.check()"
   ]
  },
  {
   "cell_type": "code",
   "execution_count": 9,
   "id": "648e2a65",
   "metadata": {
    "execution": {
     "iopub.execute_input": "2022-08-10T18:39:12.566345Z",
     "iopub.status.busy": "2022-08-10T18:39:12.565502Z",
     "iopub.status.idle": "2022-08-10T18:39:12.570438Z",
     "shell.execute_reply": "2022-08-10T18:39:12.568913Z"
    },
    "papermill": {
     "duration": 0.017585,
     "end_time": "2022-08-10T18:39:12.573497",
     "exception": false,
     "start_time": "2022-08-10T18:39:12.555912",
     "status": "completed"
    },
    "tags": []
   },
   "outputs": [],
   "source": [
    "# Uncomment to see a hint\n",
    "#q4.hint()\n",
    "\n",
    "# Uncomment to see the solution\n",
    "#q4.solution()"
   ]
  },
  {
   "cell_type": "markdown",
   "id": "70340b49",
   "metadata": {
    "papermill": {
     "duration": 0.008469,
     "end_time": "2022-08-10T18:39:12.590426",
     "exception": false,
     "start_time": "2022-08-10T18:39:12.581957",
     "status": "completed"
    },
    "tags": []
   },
   "source": [
    "# 🌶️ Question 5\n",
    "\n",
    "In Mexico, foods and beverages that are high in saturated fat, trans fat, sugar, sodium, and/or calories appear with warning labels that are designed to help consumers make healthy food choices.\n",
    "\n",
    "For instance, the [box of cookies](https://world.openfoodfacts.org/product/7501000673209/florentinas-gamesa) in the image below appears with two labels (in the upper right corner):\n",
    "- EXCESO CALORÍAS (in English, EXCESS CALORIES)\n",
    "- EXCESO AZÚCARES (in English, EXCESS SUGAR)\n",
    "\n",
    "<center><img src=\"https://i.imgur.com/VXYKHnM.png\" alt=\"drawing\" width=\"500\"/></center>\n",
    "\n",
    "In this question, you'll work with a function `get_labels()` that takes the nutritional details about a food item and prints the needed warning labels.  This function takes several inputs:\n",
    "- `food_type` = one of `\"solid\"` or `\"liquid\"`\n",
    "- `serving_size` = size of one serving (if solid, in grams; if liquid, in milliliters)\n",
    "- `calories_per_serving` = calories in one serving\n",
    "- `saturated_fat_g` = grams of saturated fat in one serving\n",
    "- `trans_fat_g` = grams of trans fat in one serving\n",
    "- `sodium_mg` = mg of sodium in one serving\n",
    "- `sugars_g` = grams of sugar in one serving\n",
    "\n",
    "Note that some of the code here should feel unfamiliar to you, since we have not shared the details of how some of the functions like `excess_sugar()` or `excess_saturated_fat()` work.  But at a high level, these are functions that return a value of `True` if the food is deemed to have an excess of sugar or saturated fat, respectively.  These functions are used within the `get_labels()` function, and whenever there is an excess (of sugar or saturated fat, but also of trans fat, sodium, or calories), it prints the corresponding label."
   ]
  },
  {
   "cell_type": "code",
   "execution_count": 10,
   "id": "a7560e68",
   "metadata": {
    "execution": {
     "iopub.execute_input": "2022-08-10T18:39:12.609960Z",
     "iopub.status.busy": "2022-08-10T18:39:12.609172Z",
     "iopub.status.idle": "2022-08-10T18:39:12.618495Z",
     "shell.execute_reply": "2022-08-10T18:39:12.617436Z"
    },
    "papermill": {
     "duration": 0.022242,
     "end_time": "2022-08-10T18:39:12.621132",
     "exception": false,
     "start_time": "2022-08-10T18:39:12.598890",
     "status": "completed"
    },
    "tags": []
   },
   "outputs": [],
   "source": [
    "# import functions needed to make get_labels work\n",
    "from learntools.intro_to_programming.ex4q5 import excess_sugar, excess_saturated_fat, excess_trans_fat, excess_sodium, excess_calories\n",
    "\n",
    "def get_labels(food_type, serving_size, calories_per_serving, saturated_fat_g, trans_fat_g, sodium_mg, sugars_g):\n",
    "    # Print messages based on findings\n",
    "    if excess_sugar(sugars_g, calories_per_serving) == True:\n",
    "        print(\"EXCESO AZÚCARES / EXCESS SUGAR\")\n",
    "    if excess_saturated_fat(saturated_fat_g, calories_per_serving) == True:\n",
    "        print(\"EXCESO GRASAS SATURADAS / EXCESS SATURATED FAT\")\n",
    "    if excess_trans_fat(trans_fat_g, calories_per_serving) == True:\n",
    "        print(\"EXCESO GRASAS TRANS / EXCESS TRANS FAT\")\n",
    "    if excess_sodium(calories_per_serving, sodium_mg) == True:\n",
    "        print(\"EXCESO SODIO / EXCESS SODIUM\")\n",
    "    if excess_calories(food_type, calories_per_serving, serving_size) == True:\n",
    "        print(\"EXCESO CALORÍAS / EXCESS CALORIES\")"
   ]
  },
  {
   "cell_type": "markdown",
   "id": "5925aae7",
   "metadata": {
    "papermill": {
     "duration": 0.007862,
     "end_time": "2022-08-10T18:39:12.636979",
     "exception": false,
     "start_time": "2022-08-10T18:39:12.629117",
     "status": "completed"
    },
    "tags": []
   },
   "source": [
    "The next code cell demonstrates how to use `get_labels()` to get the warning labels that the food item should contain.  We begin with [bologna](https://world.openfoodfacts.org/product/4099100179378/bologna).  Here is [an image](https://imgur.com/Cfcx72e) with all of the nutritional information.  Note that for this food,\n",
    "- `food_type = \"solid\"` (because bologna is a solid and not a liquid)\n",
    "- `serving_size = 32` (the serving size is 32 grams)\n",
    "- `calories_per_serving = 110` (there are 110 calories per serving)\n",
    "- `saturated_fat_g = 2.5` (there are 2.5 grams of saturated fat per serving)\n",
    "- `trans_fat_g = 0` (there are 0 grams of trans fat per serving)\n",
    "- `sodium_mg = 400` (there are 400 mg of sodium per serving)\n",
    "- `sugars_g = 1` (the nutrition facts say <1g, but we will round it up to 1 gram per serving to be safe)\n",
    "\n",
    "By supplying all of these values to the function, we can print the warning labels."
   ]
  },
  {
   "cell_type": "code",
   "execution_count": 11,
   "id": "1fa8cfad",
   "metadata": {
    "execution": {
     "iopub.execute_input": "2022-08-10T18:39:12.655126Z",
     "iopub.status.busy": "2022-08-10T18:39:12.654289Z",
     "iopub.status.idle": "2022-08-10T18:39:12.661163Z",
     "shell.execute_reply": "2022-08-10T18:39:12.659309Z"
    },
    "papermill": {
     "duration": 0.018989,
     "end_time": "2022-08-10T18:39:12.663788",
     "exception": false,
     "start_time": "2022-08-10T18:39:12.644799",
     "status": "completed"
    },
    "tags": []
   },
   "outputs": [
    {
     "name": "stdout",
     "output_type": "stream",
     "text": [
      "EXCESO GRASAS SATURADAS / EXCESS SATURATED FAT\n",
      "EXCESO SODIO / EXCESS SODIUM\n",
      "EXCESO CALORÍAS / EXCESS CALORIES\n"
     ]
    }
   ],
   "source": [
    "# bologna https://world.openfoodfacts.org/product/4099100179378/bologna\n",
    "get_labels(\"solid\", 32, 110, 2.5, 0, 400, 1)"
   ]
  },
  {
   "cell_type": "markdown",
   "id": "8e261aa0",
   "metadata": {
    "papermill": {
     "duration": 0.008442,
     "end_time": "2022-08-10T18:39:12.680961",
     "exception": false,
     "start_time": "2022-08-10T18:39:12.672519",
     "status": "completed"
    },
    "tags": []
   },
   "source": [
    "This bologna has three labels, printed in the output above.\n",
    "\n",
    "For the rest of this question, you will use the same `get_labels()` function to determine the labels for more foods.  This question is designed to help you get practice with feeling comfortable with code that other people have written, and where you don't have time to review every single line of code before interacting with it.  For instance, when you take the [Intro to Machine Learning course](http://www.kaggle.com/learn/intro-to-machine-learning), you'll work with a Python package called \"scikit-learn\", which is a large collection of code that you'll learn how to run without reviewing all of the code in detail (as it would take too long, and you can trust that it was implemented correctly).\n",
    "\n",
    "In general, as you continue coding in Python, you will often be running code that other people have written.  This is common practice for advanced programmers.\n",
    "\n",
    "In the next code cell, fill in the values for [this cereal](https://world.openfoodfacts.org/product/7501008023624/zucaritas-kellogg-s).  Here is [an image](https://imgur.com/a/MUxzHVU) with all of the nutritional information.\n",
    "\n",
    "**Note**: running the line of code below as-is will return an error.  You have to fill in the nutritional values first."
   ]
  },
  {
   "cell_type": "code",
   "execution_count": 12,
   "id": "cb52d651",
   "metadata": {
    "execution": {
     "iopub.execute_input": "2022-08-10T18:39:12.702363Z",
     "iopub.status.busy": "2022-08-10T18:39:12.700461Z",
     "iopub.status.idle": "2022-08-10T18:39:12.708871Z",
     "shell.execute_reply": "2022-08-10T18:39:12.707447Z"
    },
    "papermill": {
     "duration": 0.021433,
     "end_time": "2022-08-10T18:39:12.711489",
     "exception": false,
     "start_time": "2022-08-10T18:39:12.690056",
     "status": "completed"
    },
    "tags": []
   },
   "outputs": [
    {
     "name": "stdout",
     "output_type": "stream",
     "text": [
      "EXCESO AZÚCARES / EXCESS SUGAR\n",
      "EXCESO SODIO / EXCESS SODIUM\n",
      "EXCESO CALORÍAS / EXCESS CALORIES\n"
     ]
    }
   ],
   "source": [
    "# zucaritas cereal https://world.openfoodfacts.org/product/7501008023624/zucaritas-kellogg-s\n",
    "# TODO: Uncomment the line below, fill in the values, and run the function\n",
    "get_labels(\"solid\", 40, 150, 0, 0, 150, 16)"
   ]
  },
  {
   "cell_type": "markdown",
   "id": "74b64d89",
   "metadata": {
    "papermill": {
     "duration": 0.008203,
     "end_time": "2022-08-10T18:39:12.728262",
     "exception": false,
     "start_time": "2022-08-10T18:39:12.720059",
     "status": "completed"
    },
    "tags": []
   },
   "source": [
    "Next, try [these mozzarella sticks](https://world-es.openfoodfacts.org/producto/0062325540104/mozzarella-cheese-sticks).  Here is [an image](https://imgur.com/rcdB7VH) with all of the nutritional information."
   ]
  },
  {
   "cell_type": "code",
   "execution_count": 13,
   "id": "2303c071",
   "metadata": {
    "execution": {
     "iopub.execute_input": "2022-08-10T18:39:12.747449Z",
     "iopub.status.busy": "2022-08-10T18:39:12.746482Z",
     "iopub.status.idle": "2022-08-10T18:39:12.752014Z",
     "shell.execute_reply": "2022-08-10T18:39:12.750703Z"
    },
    "papermill": {
     "duration": 0.018062,
     "end_time": "2022-08-10T18:39:12.754714",
     "exception": false,
     "start_time": "2022-08-10T18:39:12.736652",
     "status": "completed"
    },
    "tags": []
   },
   "outputs": [],
   "source": [
    "# mozzarella sticks https://world-es.openfoodfacts.org/producto/0062325540104/mozzarella-cheese-sticks\n",
    "# TODO: Uncomment the line below, fill in the values, and run the function\n",
    "#get_labels()"
   ]
  },
  {
   "cell_type": "markdown",
   "id": "4a3907e4",
   "metadata": {
    "papermill": {
     "duration": 0.009466,
     "end_time": "2022-08-10T18:39:12.772528",
     "exception": false,
     "start_time": "2022-08-10T18:39:12.763062",
     "status": "completed"
    },
    "tags": []
   },
   "source": [
    "Feel free to skip to the end of the notebook now and run `q5.check()` to complete the exercise.  If you want to try more foods, \n",
    "- try [these cookies](https://world.openfoodfacts.org/product/0069700118545/biscuits-au-sucre-pretraches).  Here is [an image](https://imgur.com/2Bc271o) with all of the nutritional information.\n",
    "- try [this soda](https://world-es.openfoodfacts.org/producto/0078000113464/orange-soda-sunkist).  Here is [an image](https://imgur.com/RsBYa8E) with all of the nutritional information.\n",
    "\n",
    "Use the two code cells below for this."
   ]
  },
  {
   "cell_type": "code",
   "execution_count": 14,
   "id": "e59e6ba8",
   "metadata": {
    "execution": {
     "iopub.execute_input": "2022-08-10T18:39:12.795597Z",
     "iopub.status.busy": "2022-08-10T18:39:12.794176Z",
     "iopub.status.idle": "2022-08-10T18:39:12.800873Z",
     "shell.execute_reply": "2022-08-10T18:39:12.799593Z"
    },
    "papermill": {
     "duration": 0.022036,
     "end_time": "2022-08-10T18:39:12.803703",
     "exception": false,
     "start_time": "2022-08-10T18:39:12.781667",
     "status": "completed"
    },
    "tags": []
   },
   "outputs": [],
   "source": [
    "# pillsbury cookies https://world.openfoodfacts.org/product/0069700118545/biscuits-au-sucre-pretraches\n",
    "# TODO: Uncomment the line below, fill in the values, and run the function\n",
    "#get_labels()"
   ]
  },
  {
   "cell_type": "code",
   "execution_count": 15,
   "id": "f63de580",
   "metadata": {
    "execution": {
     "iopub.execute_input": "2022-08-10T18:39:12.823673Z",
     "iopub.status.busy": "2022-08-10T18:39:12.822494Z",
     "iopub.status.idle": "2022-08-10T18:39:12.828262Z",
     "shell.execute_reply": "2022-08-10T18:39:12.827084Z"
    },
    "papermill": {
     "duration": 0.018069,
     "end_time": "2022-08-10T18:39:12.830655",
     "exception": false,
     "start_time": "2022-08-10T18:39:12.812586",
     "status": "completed"
    },
    "tags": []
   },
   "outputs": [],
   "source": [
    "# sunkist orange soda https://world-es.openfoodfacts.org/producto/0078000113464/orange-soda-sunkist\n",
    "# TODO: Uncomment the line below, fill in the values, and run the function\n",
    "#get_labels()"
   ]
  },
  {
   "cell_type": "markdown",
   "id": "cd3ec2f6",
   "metadata": {
    "papermill": {
     "duration": 0.008642,
     "end_time": "2022-08-10T18:39:12.848308",
     "exception": false,
     "start_time": "2022-08-10T18:39:12.839666",
     "status": "completed"
    },
    "tags": []
   },
   "source": [
    "Once you have finished investigating the food items in this question, run the final code cell to get credit for completing this problem."
   ]
  },
  {
   "cell_type": "code",
   "execution_count": 16,
   "id": "95fe5be8",
   "metadata": {
    "execution": {
     "iopub.execute_input": "2022-08-10T18:39:12.868663Z",
     "iopub.status.busy": "2022-08-10T18:39:12.867669Z",
     "iopub.status.idle": "2022-08-10T18:39:12.876715Z",
     "shell.execute_reply": "2022-08-10T18:39:12.875353Z"
    },
    "papermill": {
     "duration": 0.022289,
     "end_time": "2022-08-10T18:39:12.879500",
     "exception": false,
     "start_time": "2022-08-10T18:39:12.857211",
     "status": "completed"
    },
    "tags": []
   },
   "outputs": [
    {
     "data": {
      "application/javascript": [
       "parent.postMessage({\"jupyterEvent\": \"custom.exercise_interaction\", \"data\": {\"outcomeType\": 1, \"valueTowardsCompletion\": 0.2, \"interactionType\": 1, \"questionType\": 2, \"questionId\": \"5_GetLabels\", \"learnToolsVersion\": \"0.3.4\", \"failureMessage\": \"\", \"exceptionClass\": \"\", \"trace\": \"\"}}, \"*\")"
      ],
      "text/plain": [
       "<IPython.core.display.Javascript object>"
      ]
     },
     "metadata": {},
     "output_type": "display_data"
    },
    {
     "data": {
      "text/markdown": [
       "<span style=\"color:#33cc33\">Once you have determined the labels for all of the food items, you're ready to move on to the next lesson!</span>"
      ],
      "text/plain": [
       "Once you have determined the labels for all of the food items, you're ready to move on to the next lesson!"
      ]
     },
     "metadata": {},
     "output_type": "display_data"
    }
   ],
   "source": [
    "# Get credit for completing the problem\n",
    "q5.check()"
   ]
  },
  {
   "cell_type": "markdown",
   "id": "5201051d",
   "metadata": {
    "papermill": {
     "duration": 0.010206,
     "end_time": "2022-08-10T18:39:12.899418",
     "exception": false,
     "start_time": "2022-08-10T18:39:12.889212",
     "status": "completed"
    },
    "tags": []
   },
   "source": [
    "# Keep going\n",
    "\n",
    "Continue to the next lesson to **[learn about Python lists](https://www.kaggle.com/alexisbcook/intro-to-lists)**."
   ]
  },
  {
   "cell_type": "markdown",
   "id": "8ffd47a8",
   "metadata": {
    "papermill": {
     "duration": 0.011241,
     "end_time": "2022-08-10T18:39:12.921032",
     "exception": false,
     "start_time": "2022-08-10T18:39:12.909791",
     "status": "completed"
    },
    "tags": []
   },
   "source": [
    "---\n",
    "\n",
    "\n",
    "\n",
    "\n",
    "*Have questions or comments? Visit the [course discussion forum](https://www.kaggle.com/learn/intro-to-programming/discussion) to chat with other learners.*"
   ]
  }
 ],
 "metadata": {
  "kernelspec": {
   "display_name": "Python 3",
   "language": "python",
   "name": "python3"
  },
  "language_info": {
   "codemirror_mode": {
    "name": "ipython",
    "version": 3
   },
   "file_extension": ".py",
   "mimetype": "text/x-python",
   "name": "python",
   "nbconvert_exporter": "python",
   "pygments_lexer": "ipython3",
   "version": "3.7.12"
  },
  "papermill": {
   "default_parameters": {},
   "duration": 11.840161,
   "end_time": "2022-08-10T18:39:13.656055",
   "environment_variables": {},
   "exception": null,
   "input_path": "__notebook__.ipynb",
   "output_path": "__notebook__.ipynb",
   "parameters": {},
   "start_time": "2022-08-10T18:39:01.815894",
   "version": "2.3.4"
  }
 },
 "nbformat": 4,
 "nbformat_minor": 5
}

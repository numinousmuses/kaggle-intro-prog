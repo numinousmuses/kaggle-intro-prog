{
 "cells": [
  {
   "cell_type": "markdown",
   "id": "9b908603",
   "metadata": {
    "_cell_guid": "26f81b51-dc6d-40c2-a681-617f16a05fe6",
    "_uuid": "d73319cc-afb0-4c9c-9bf6-a5a7d1ac565d",
    "papermill": {
     "duration": 0.007525,
     "end_time": "2022-08-07T16:54:13.104660",
     "exception": false,
     "start_time": "2022-08-07T16:54:13.097135",
     "status": "completed"
    },
    "tags": []
   },
   "source": [
    "**This notebook is an exercise in the [Intro to Programming](https://www.kaggle.com/learn/intro-to-programming) course.  You can reference the tutorial at [this link](https://www.kaggle.com/alexisbcook/arithmetic-and-variables).**\n",
    "\n",
    "---"
   ]
  },
  {
   "cell_type": "markdown",
   "id": "3a40fb80",
   "metadata": {
    "_cell_guid": "08db05eb-d255-4c3c-8262-978902cfcc3e",
    "_uuid": "169a8827-c559-4669-b362-706f24133747",
    "papermill": {
     "duration": 0.007016,
     "end_time": "2022-08-07T16:54:13.118532",
     "exception": false,
     "start_time": "2022-08-07T16:54:13.111516",
     "status": "completed"
    },
    "tags": []
   },
   "source": [
    "This exercise will get you started with running your own code.  \n",
    "\n",
    "# Set up the notebook\n",
    "\n",
    "To begin, run the code in the next cell.\n",
    "- Begin by clicking inside the code cell.  \n",
    "- Click on the triangle (in the shape of a \"Play button\") that appears to the left of the code cell.\n",
    "- If your code was run sucessfully, you will see `Setup Complete` as output below the cell.\n",
    "\n",
    "Instead of clicking on the triangle, you can also run code by pressing Shift + Enter on your keyboard.  Try this now!  Nothing bad will happen if you run the code more than once."
   ]
  },
  {
   "cell_type": "code",
   "execution_count": 1,
   "id": "3aabdcc4",
   "metadata": {
    "_cell_guid": "b80ee078-59f8-44aa-a120-01e2267dd880",
    "_uuid": "1ee12bd5-ccd8-4444-9f8e-dbefb033630c",
    "collapsed": false,
    "execution": {
     "iopub.execute_input": "2022-08-07T16:54:13.134574Z",
     "iopub.status.busy": "2022-08-07T16:54:13.133923Z",
     "iopub.status.idle": "2022-08-07T16:54:13.196090Z",
     "shell.execute_reply": "2022-08-07T16:54:13.194803Z"
    },
    "jupyter": {
     "outputs_hidden": false
    },
    "papermill": {
     "duration": 0.074078,
     "end_time": "2022-08-07T16:54:13.199019",
     "exception": false,
     "start_time": "2022-08-07T16:54:13.124941",
     "status": "completed"
    },
    "tags": []
   },
   "outputs": [
    {
     "name": "stdout",
     "output_type": "stream",
     "text": [
      "Setup complete.\n"
     ]
    }
   ],
   "source": [
    "# Set up the exercise\n",
    "from learntools.core import binder\n",
    "binder.bind(globals())\n",
    "from learntools.intro_to_programming.ex1 import *\n",
    "print('Setup complete.')"
   ]
  },
  {
   "cell_type": "markdown",
   "id": "b3c7f526",
   "metadata": {
    "_cell_guid": "f94729a4-d01c-49c5-a66b-ec2a9429aec0",
    "_uuid": "2c26fae7-93bb-4aea-b619-404fe03f8e64",
    "papermill": {
     "duration": 0.006064,
     "end_time": "2022-08-07T16:54:13.211581",
     "exception": false,
     "start_time": "2022-08-07T16:54:13.205517",
     "status": "completed"
    },
    "tags": []
   },
   "source": [
    "The code above sets up the notebook so that it can check your answers in this exercise.  You should never modify this code.  (Otherwise, the notebook won't be able to verify that you have successfully completed the exercise.)\n",
    "\n",
    "After finishing all of the questions below, you'll see the exercise marked as complete on the [course page](http://www.kaggle.com/learn/intro-to-programming).  Once you complete all of the lessons, you'll get a course completion certificate!\n",
    "\n",
    "# Question 1\n",
    "\n",
    "Next, you will run some code from the tutorial, so you can see how it works for yourself.  Run the next code cell without changes."
   ]
  },
  {
   "cell_type": "code",
   "execution_count": 2,
   "id": "97bd5aa3",
   "metadata": {
    "_cell_guid": "8f7d84e5-7e09-4cc8-a48d-34d4eee7dc30",
    "_uuid": "b522ba21-72d0-461f-8b7d-24f4bc6d2d17",
    "collapsed": false,
    "execution": {
     "iopub.execute_input": "2022-08-07T16:54:13.227316Z",
     "iopub.status.busy": "2022-08-07T16:54:13.226404Z",
     "iopub.status.idle": "2022-08-07T16:54:13.241289Z",
     "shell.execute_reply": "2022-08-07T16:54:13.239799Z"
    },
    "jupyter": {
     "outputs_hidden": false
    },
    "papermill": {
     "duration": 0.026315,
     "end_time": "2022-08-07T16:54:13.244264",
     "exception": false,
     "start_time": "2022-08-07T16:54:13.217949",
     "status": "completed"
    },
    "tags": []
   },
   "outputs": [
    {
     "name": "stdout",
     "output_type": "stream",
     "text": [
      "Hello, world!\n"
     ]
    },
    {
     "data": {
      "application/javascript": [
       "parent.postMessage({\"jupyterEvent\": \"custom.exercise_interaction\", \"data\": {\"outcomeType\": 1, \"valueTowardsCompletion\": 0.2, \"interactionType\": 1, \"questionType\": 2, \"questionId\": \"1_RunHelloWorld\", \"learnToolsVersion\": \"0.3.4\", \"failureMessage\": \"\", \"exceptionClass\": \"\", \"trace\": \"\"}}, \"*\")"
      ],
      "text/plain": [
       "<IPython.core.display.Javascript object>"
      ]
     },
     "metadata": {},
     "output_type": "display_data"
    },
    {
     "data": {
      "text/markdown": [
       "<span style=\"color:#33cc33\">If you see 'Hello, world!' above, You have successfully printed a message, and you're ready to move on to the next question.</span>"
      ],
      "text/plain": [
       "If you see 'Hello, world!' above, You have successfully printed a message, and you're ready to move on to the next question."
      ]
     },
     "metadata": {},
     "output_type": "display_data"
    }
   ],
   "source": [
    "print(\"Hello, world!\")\n",
    "\n",
    "# DO NOT REMOVE: Mark this question as completed\n",
    "q1.check()"
   ]
  },
  {
   "cell_type": "markdown",
   "id": "f95ad15a",
   "metadata": {
    "_cell_guid": "91591079-2f65-4a61-a3ee-472197d5248b",
    "_uuid": "9e3d676f-fda7-4fe2-8f7a-7cb6ae12aec8",
    "papermill": {
     "duration": 0.006475,
     "end_time": "2022-08-07T16:54:13.257996",
     "exception": false,
     "start_time": "2022-08-07T16:54:13.251521",
     "status": "completed"
    },
    "tags": []
   },
   "source": [
    "You just ran code to print `Hello world!`, which you should see in the output above.\n",
    "\n",
    "The second line of code (`q1.check()`) checks your answer.  You should never modify this checking code; if you remove it, you won't get credit for completing the problem.\n",
    "\n",
    "# Question 2\n",
    "\n",
    "Now, you will print another message of your choosing.  To do this, change `print(\"Your message here!\")` to use a different message.  For instance, you might like to change it to something like:\n",
    "- `print(\"Good morning!\")`\n",
    "- `print(\"I am learning how to code :D\")`\n",
    "\n",
    "Or, you might like to see what happens if you write something like `print(\"3+4\")`.  Does it return 7, or does it just think of `\"3+4\"` as just another message?\n",
    "\n",
    "Make sure that your message is enclosed in quotation marks (`\"`), and the message itself does not use quotation marks. For instance, this will throw an error: `print(\"She said \"great job\" and gave me a high-five!\")` because the message contains quotation marks.  If you decide to take the Python course after completing this course, you will learn more about how to avoid this error in [Lesson 6](https://www.kaggle.com/colinmorris/strings-and-dictionaries).\n",
    "\n",
    "Feel free to try out multiple messages!"
   ]
  },
  {
   "cell_type": "code",
   "execution_count": 3,
   "id": "e60a6978",
   "metadata": {
    "_cell_guid": "3f304194-472a-455c-a46f-874831aa6bef",
    "_uuid": "8c222621-a8d5-4f30-b1e7-07f5585b1989",
    "collapsed": false,
    "execution": {
     "iopub.execute_input": "2022-08-07T16:54:13.273848Z",
     "iopub.status.busy": "2022-08-07T16:54:13.272874Z",
     "iopub.status.idle": "2022-08-07T16:54:13.282224Z",
     "shell.execute_reply": "2022-08-07T16:54:13.281142Z"
    },
    "jupyter": {
     "outputs_hidden": false
    },
    "papermill": {
     "duration": 0.019516,
     "end_time": "2022-08-07T16:54:13.284365",
     "exception": false,
     "start_time": "2022-08-07T16:54:13.264849",
     "status": "completed"
    },
    "tags": []
   },
   "outputs": [
    {
     "name": "stdout",
     "output_type": "stream",
     "text": [
      "dubs fr fr\n",
      "python be bussin\n"
     ]
    },
    {
     "data": {
      "application/javascript": [
       "parent.postMessage({\"jupyterEvent\": \"custom.exercise_interaction\", \"data\": {\"outcomeType\": 1, \"valueTowardsCompletion\": 0.2, \"interactionType\": 1, \"questionType\": 2, \"questionId\": \"2_PrintAnotherMsg\", \"learnToolsVersion\": \"0.3.4\", \"failureMessage\": \"\", \"exceptionClass\": \"\", \"trace\": \"\"}}, \"*\")"
      ],
      "text/plain": [
       "<IPython.core.display.Javascript object>"
      ]
     },
     "metadata": {},
     "output_type": "display_data"
    },
    {
     "data": {
      "text/markdown": [
       "<span style=\"color:#33cc33\">Once you have printed your own message, you're ready to move on to the next question.</span>"
      ],
      "text/plain": [
       "Once you have printed your own message, you're ready to move on to the next question."
      ]
     },
     "metadata": {},
     "output_type": "display_data"
    }
   ],
   "source": [
    "# TODO: Change the message\n",
    "print(\"dubs fr fr\")\n",
    "print(\"python be bussin\")\n",
    "\n",
    "# DO NOT REMOVE: Mark this question as completed \n",
    "q2.check()"
   ]
  },
  {
   "cell_type": "markdown",
   "id": "54a5e801",
   "metadata": {
    "_cell_guid": "d5048a78-1b09-4b65-9b5b-9df02a98a8ab",
    "_uuid": "9385b369-aae8-49e2-92cb-bca47857c4b8",
    "papermill": {
     "duration": 0.007111,
     "end_time": "2022-08-07T16:54:13.299139",
     "exception": false,
     "start_time": "2022-08-07T16:54:13.292028",
     "status": "completed"
    },
    "tags": []
   },
   "source": [
    "# Question 3\n",
    "\n",
    "As you learned in the tutorial, a comment in Python has a pound sign (`#`) in front of it, which tells Python to ignore the text after it.\n",
    "\n",
    "Putting a pound sign in front of a line of code will make Python ignore that code.  For instance, this line would be ignored by Python, and nothing would appear in the output:\n",
    "```python\n",
    "#print(1+2)\n",
    "```\n",
    "Removing the pound sign will make it so that you can run the code again. When we remove the pound sign in front of a line of code, we call this **uncommenting**.\n",
    "\n",
    "In this problem, you will uncomment two lines in the code cell below and view the output:\n",
    "- Remove the `#` in front of `q3.hint()`.  To avoid errors, do NOT remove the `#` in front of `# Uncomment to view hint`.  \n",
    "- Next, remove the `#` in front of `q3.solution()`.\n",
    "\n",
    "As in the previous questions, do not change the final line of code that marks your work as completed."
   ]
  },
  {
   "cell_type": "code",
   "execution_count": 4,
   "id": "c704b15b",
   "metadata": {
    "_cell_guid": "122fdb76-d9e5-46fd-96b3-b6657b47357a",
    "_uuid": "deb7640c-8ad2-414e-8196-8d4346ade0fb",
    "collapsed": false,
    "execution": {
     "iopub.execute_input": "2022-08-07T16:54:13.315300Z",
     "iopub.status.busy": "2022-08-07T16:54:13.314363Z",
     "iopub.status.idle": "2022-08-07T16:54:13.329277Z",
     "shell.execute_reply": "2022-08-07T16:54:13.328398Z"
    },
    "jupyter": {
     "outputs_hidden": false
    },
    "papermill": {
     "duration": 0.02501,
     "end_time": "2022-08-07T16:54:13.331307",
     "exception": false,
     "start_time": "2022-08-07T16:54:13.306297",
     "status": "completed"
    },
    "tags": []
   },
   "outputs": [
    {
     "data": {
      "application/javascript": [
       "parent.postMessage({\"jupyterEvent\": \"custom.exercise_interaction\", \"data\": {\"interactionType\": 2, \"questionType\": 2, \"questionId\": \"3_LearnCheckingCode\", \"learnToolsVersion\": \"0.3.4\", \"valueTowardsCompletion\": 0.0, \"failureMessage\": \"\", \"exceptionClass\": \"\", \"trace\": \"\", \"outcomeType\": 4}}, \"*\")"
      ],
      "text/plain": [
       "<IPython.core.display.Javascript object>"
      ]
     },
     "metadata": {},
     "output_type": "display_data"
    },
    {
     "data": {
      "text/markdown": [
       "<span style=\"color:#3366cc\">Hint:</span> If you're ever stuck on a question, it's a good idea to look at the hint before viewing the solution."
      ],
      "text/plain": [
       "Hint: If you're ever stuck on a question, it's a good idea to look at the hint before viewing the solution."
      ]
     },
     "metadata": {},
     "output_type": "display_data"
    },
    {
     "data": {
      "application/javascript": [
       "parent.postMessage({\"jupyterEvent\": \"custom.exercise_interaction\", \"data\": {\"interactionType\": 3, \"questionType\": 2, \"questionId\": \"3_LearnCheckingCode\", \"learnToolsVersion\": \"0.3.4\", \"valueTowardsCompletion\": 0.0, \"failureMessage\": \"\", \"exceptionClass\": \"\", \"trace\": \"\", \"outcomeType\": 4}}, \"*\")"
      ],
      "text/plain": [
       "<IPython.core.display.Javascript object>"
      ]
     },
     "metadata": {},
     "output_type": "display_data"
    },
    {
     "data": {
      "text/markdown": [
       "<span style=\"color:#33cc99\">Solution:</span> If you're still stuck on a question after viewing the hint and re-reading the tutorial, you can view the solution.  You can also view the solution after you have successfully submitted your own answer, to check if the official solution is any different (there may be more than one right answer!)."
      ],
      "text/plain": [
       "Solution: If you're still stuck on a question after viewing the hint and re-reading the tutorial, you can view the solution.  You can also view the solution after you have successfully submitted your own answer, to check if the official solution is any different (there may be more than one right answer!)."
      ]
     },
     "metadata": {},
     "output_type": "display_data"
    },
    {
     "data": {
      "application/javascript": [
       "parent.postMessage({\"jupyterEvent\": \"custom.exercise_interaction\", \"data\": {\"outcomeType\": 1, \"valueTowardsCompletion\": 0.2, \"interactionType\": 1, \"questionType\": 2, \"questionId\": \"3_LearnCheckingCode\", \"learnToolsVersion\": \"0.3.4\", \"failureMessage\": \"\", \"exceptionClass\": \"\", \"trace\": \"\"}}, \"*\")"
      ],
      "text/plain": [
       "<IPython.core.display.Javascript object>"
      ]
     },
     "metadata": {},
     "output_type": "display_data"
    },
    {
     "data": {
      "text/markdown": [
       "<span style=\"color:#33cc33\">Once you have printed the hint and the solution, you're ready to move on to the next question.</span>"
      ],
      "text/plain": [
       "Once you have printed the hint and the solution, you're ready to move on to the next question."
      ]
     },
     "metadata": {},
     "output_type": "display_data"
    }
   ],
   "source": [
    "# Uncomment to get a hint\n",
    "q3.hint()\n",
    "\n",
    "# Uncomment to view solution\n",
    "q3.solution()\n",
    "\n",
    "# DO NOT REMOVE: Check your answer\n",
    "q3.check()"
   ]
  },
  {
   "cell_type": "markdown",
   "id": "4da86406",
   "metadata": {
    "_cell_guid": "4638a780-e349-4e35-aa8e-f0ca428d5f97",
    "_uuid": "d7e736d3-f12b-42b2-9fa9-faf71af6cdfd",
    "papermill": {
     "duration": 0.007625,
     "end_time": "2022-08-07T16:54:13.346792",
     "exception": false,
     "start_time": "2022-08-07T16:54:13.339167",
     "status": "completed"
    },
    "tags": []
   },
   "source": [
    "In the next question, and in most of the exercises in this course, you will have the option to uncomment to view hints and solutions.  Once you feel comfortable with uncommenting, continue to the next question."
   ]
  },
  {
   "cell_type": "markdown",
   "id": "c2d6237f",
   "metadata": {
    "_cell_guid": "50faf1ce-5f47-4c02-8273-fd14c0d2c266",
    "_uuid": "e1c5a261-2203-4a55-9cd4-dadbc4d2d858",
    "papermill": {
     "duration": 0.007479,
     "end_time": "2022-08-07T16:54:13.361672",
     "exception": false,
     "start_time": "2022-08-07T16:54:13.354193",
     "status": "completed"
    },
    "tags": []
   },
   "source": [
    "# Question 4\n",
    "\n",
    "In the tutorial, you defined several variables to calculate the total number of seconds in a year.  Run the next code cell to do the calculation here."
   ]
  },
  {
   "cell_type": "code",
   "execution_count": 5,
   "id": "e31d288e",
   "metadata": {
    "_cell_guid": "425281b7-b1a6-4b8d-a7e1-1068d2f28c96",
    "_uuid": "13111f37-f49c-4bf0-a04e-508baabade0d",
    "collapsed": false,
    "execution": {
     "iopub.execute_input": "2022-08-07T16:54:13.378928Z",
     "iopub.status.busy": "2022-08-07T16:54:13.378240Z",
     "iopub.status.idle": "2022-08-07T16:54:13.384909Z",
     "shell.execute_reply": "2022-08-07T16:54:13.383069Z"
    },
    "jupyter": {
     "outputs_hidden": false
    },
    "papermill": {
     "duration": 0.019199,
     "end_time": "2022-08-07T16:54:13.388647",
     "exception": false,
     "start_time": "2022-08-07T16:54:13.369448",
     "status": "completed"
    },
    "tags": []
   },
   "outputs": [
    {
     "name": "stdout",
     "output_type": "stream",
     "text": [
      "126144000\n"
     ]
    }
   ],
   "source": [
    "# Create variables\n",
    "num_years = 4\n",
    "days_per_year = 365 \n",
    "hours_per_day = 24\n",
    "mins_per_hour = 60\n",
    "secs_per_min = 60\n",
    "\n",
    "# Calculate number of seconds in four years\n",
    "total_secs = secs_per_min * mins_per_hour * hours_per_day * days_per_year * num_years\n",
    "print(total_secs)"
   ]
  },
  {
   "cell_type": "markdown",
   "id": "5cce1237",
   "metadata": {
    "_cell_guid": "bd9c5fde-fc98-4bf3-89fe-123aec5ee7e0",
    "_uuid": "4181af87-b620-41ee-93cf-3240e7cb8cc7",
    "papermill": {
     "duration": 0.007317,
     "end_time": "2022-08-07T16:54:13.404056",
     "exception": false,
     "start_time": "2022-08-07T16:54:13.396739",
     "status": "completed"
    },
    "tags": []
   },
   "source": [
    "Use the next code cell to:\n",
    "- Define a variable `births_per_min` and set it to 250.  (There are on average 250 babies born each minute.)\n",
    "- Define a variable `births_per_day` that contains the average number of babies born each day.  (To set the value of this variable, you should use `births_per_min` and some of the variables from the previous code cell.)\n",
    "\n",
    "Remember you can always get a hint if you need it!"
   ]
  },
  {
   "cell_type": "code",
   "execution_count": 6,
   "id": "763bda96",
   "metadata": {
    "_cell_guid": "f299580a-29c9-406c-9c0e-6133869ac983",
    "_uuid": "36bfeb7f-f502-4b45-b26b-44b1144d796f",
    "collapsed": false,
    "execution": {
     "iopub.execute_input": "2022-08-07T16:54:13.423057Z",
     "iopub.status.busy": "2022-08-07T16:54:13.422324Z",
     "iopub.status.idle": "2022-08-07T16:54:13.430595Z",
     "shell.execute_reply": "2022-08-07T16:54:13.429505Z"
    },
    "jupyter": {
     "outputs_hidden": false
    },
    "papermill": {
     "duration": 0.019509,
     "end_time": "2022-08-07T16:54:13.432860",
     "exception": false,
     "start_time": "2022-08-07T16:54:13.413351",
     "status": "completed"
    },
    "tags": []
   },
   "outputs": [
    {
     "data": {
      "application/javascript": [
       "parent.postMessage({\"jupyterEvent\": \"custom.exercise_interaction\", \"data\": {\"outcomeType\": 1, \"valueTowardsCompletion\": 0.2, \"interactionType\": 1, \"questionType\": 1, \"questionId\": \"4_BirthsPerYear\", \"learnToolsVersion\": \"0.3.4\", \"failureMessage\": \"\", \"exceptionClass\": \"\", \"trace\": \"\"}}, \"*\")"
      ],
      "text/plain": [
       "<IPython.core.display.Javascript object>"
      ]
     },
     "metadata": {},
     "output_type": "display_data"
    },
    {
     "data": {
      "text/markdown": [
       "<span style=\"color:#33cc33\">Correct</span>"
      ],
      "text/plain": [
       "Correct"
      ]
     },
     "metadata": {},
     "output_type": "display_data"
    }
   ],
   "source": [
    "# TODO: Set the value of the births_per_min variable\n",
    "births_per_min = 250\n",
    "\n",
    "# TODO: Set the value of the births_per_day variable\n",
    "births_per_day = births_per_min * mins_per_hour * hours_per_day\n",
    "\n",
    "# DO NOT REMOVE: Check your answer\n",
    "q4.check()"
   ]
  },
  {
   "cell_type": "code",
   "execution_count": 7,
   "id": "0fd93037",
   "metadata": {
    "_cell_guid": "d013bf24-5ef2-40b3-8073-34bf3a6ee761",
    "_uuid": "c6e42c46-c6c8-43ad-a7c5-b2e39056c252",
    "collapsed": false,
    "execution": {
     "iopub.execute_input": "2022-08-07T16:54:13.450644Z",
     "iopub.status.busy": "2022-08-07T16:54:13.449921Z",
     "iopub.status.idle": "2022-08-07T16:54:13.453924Z",
     "shell.execute_reply": "2022-08-07T16:54:13.453003Z"
    },
    "jupyter": {
     "outputs_hidden": false
    },
    "papermill": {
     "duration": 0.015496,
     "end_time": "2022-08-07T16:54:13.456109",
     "exception": false,
     "start_time": "2022-08-07T16:54:13.440613",
     "status": "completed"
    },
    "tags": []
   },
   "outputs": [],
   "source": [
    "# Uncomment to get a hint\n",
    "#q4.hint()\n",
    "\n",
    "# Uncomment to view solution\n",
    "#q4.solution()"
   ]
  },
  {
   "cell_type": "markdown",
   "id": "659e44c4",
   "metadata": {
    "_cell_guid": "0aea3a43-0e80-49fb-b768-c6b4963771f5",
    "_uuid": "12872f8e-efbe-462a-861f-c035e8c3443f",
    "papermill": {
     "duration": 0.007376,
     "end_time": "2022-08-07T16:54:13.471650",
     "exception": false,
     "start_time": "2022-08-07T16:54:13.464274",
     "status": "completed"
    },
    "tags": []
   },
   "source": [
    "# 🌶️ Question 5\n",
    "\n",
    "(Questions marked with a 🌶️ will be a little bit more challenging than the others!  Remember you can always get a hint or view the solution.)\n",
    "\n",
    "The [Titanic competition](https://www.kaggle.com/c/titanic) is Kaggle's most famous data science competition. In this competition, participants are challenged to build a machine learning model that can predict whether or not passengers survived the Titanic shipwreck, based on information like age, sex, family size, and ticket number.\n",
    "\n",
    "Run the next code cell without changes to load and preview the titanic data.\n",
    "\n",
    "Don't worry about the details of the code for now - the end result is just that the all of the titanic data has been loaded in a variable named `titanic_data`.  (In order to learn how to write this code yourself, you can take the [Python course](https://www.kaggle.com/learn/python) and then the [Pandas course](https://www.kaggle.com/learn/pandas).)"
   ]
  },
  {
   "cell_type": "code",
   "execution_count": 8,
   "id": "fe072291",
   "metadata": {
    "_cell_guid": "4a85f81b-2025-4b57-a59b-bb2ef4f6fd9b",
    "_uuid": "b9171f75-953f-4651-b9ee-ddbc59e384f9",
    "collapsed": false,
    "execution": {
     "iopub.execute_input": "2022-08-07T16:54:13.489882Z",
     "iopub.status.busy": "2022-08-07T16:54:13.489449Z",
     "iopub.status.idle": "2022-08-07T16:54:13.529320Z",
     "shell.execute_reply": "2022-08-07T16:54:13.528407Z"
    },
    "jupyter": {
     "outputs_hidden": false
    },
    "papermill": {
     "duration": 0.052182,
     "end_time": "2022-08-07T16:54:13.531848",
     "exception": false,
     "start_time": "2022-08-07T16:54:13.479666",
     "status": "completed"
    },
    "tags": []
   },
   "outputs": [
    {
     "data": {
      "text/html": [
       "<div>\n",
       "<style scoped>\n",
       "    .dataframe tbody tr th:only-of-type {\n",
       "        vertical-align: middle;\n",
       "    }\n",
       "\n",
       "    .dataframe tbody tr th {\n",
       "        vertical-align: top;\n",
       "    }\n",
       "\n",
       "    .dataframe thead th {\n",
       "        text-align: right;\n",
       "    }\n",
       "</style>\n",
       "<table border=\"1\" class=\"dataframe\">\n",
       "  <thead>\n",
       "    <tr style=\"text-align: right;\">\n",
       "      <th></th>\n",
       "      <th>PassengerId</th>\n",
       "      <th>Survived</th>\n",
       "      <th>Pclass</th>\n",
       "      <th>Name</th>\n",
       "      <th>Sex</th>\n",
       "      <th>Age</th>\n",
       "      <th>SibSp</th>\n",
       "      <th>Parch</th>\n",
       "      <th>Ticket</th>\n",
       "      <th>Fare</th>\n",
       "      <th>Cabin</th>\n",
       "      <th>Embarked</th>\n",
       "    </tr>\n",
       "  </thead>\n",
       "  <tbody>\n",
       "    <tr>\n",
       "      <th>0</th>\n",
       "      <td>1</td>\n",
       "      <td>0</td>\n",
       "      <td>3</td>\n",
       "      <td>Braund, Mr. Owen Harris</td>\n",
       "      <td>male</td>\n",
       "      <td>22.0</td>\n",
       "      <td>1</td>\n",
       "      <td>0</td>\n",
       "      <td>A/5 21171</td>\n",
       "      <td>7.2500</td>\n",
       "      <td>NaN</td>\n",
       "      <td>S</td>\n",
       "    </tr>\n",
       "    <tr>\n",
       "      <th>1</th>\n",
       "      <td>2</td>\n",
       "      <td>1</td>\n",
       "      <td>1</td>\n",
       "      <td>Cumings, Mrs. John Bradley (Florence Briggs Th...</td>\n",
       "      <td>female</td>\n",
       "      <td>38.0</td>\n",
       "      <td>1</td>\n",
       "      <td>0</td>\n",
       "      <td>PC 17599</td>\n",
       "      <td>71.2833</td>\n",
       "      <td>C85</td>\n",
       "      <td>C</td>\n",
       "    </tr>\n",
       "    <tr>\n",
       "      <th>2</th>\n",
       "      <td>3</td>\n",
       "      <td>1</td>\n",
       "      <td>3</td>\n",
       "      <td>Heikkinen, Miss. Laina</td>\n",
       "      <td>female</td>\n",
       "      <td>26.0</td>\n",
       "      <td>0</td>\n",
       "      <td>0</td>\n",
       "      <td>STON/O2. 3101282</td>\n",
       "      <td>7.9250</td>\n",
       "      <td>NaN</td>\n",
       "      <td>S</td>\n",
       "    </tr>\n",
       "    <tr>\n",
       "      <th>3</th>\n",
       "      <td>4</td>\n",
       "      <td>1</td>\n",
       "      <td>1</td>\n",
       "      <td>Futrelle, Mrs. Jacques Heath (Lily May Peel)</td>\n",
       "      <td>female</td>\n",
       "      <td>35.0</td>\n",
       "      <td>1</td>\n",
       "      <td>0</td>\n",
       "      <td>113803</td>\n",
       "      <td>53.1000</td>\n",
       "      <td>C123</td>\n",
       "      <td>S</td>\n",
       "    </tr>\n",
       "    <tr>\n",
       "      <th>4</th>\n",
       "      <td>5</td>\n",
       "      <td>0</td>\n",
       "      <td>3</td>\n",
       "      <td>Allen, Mr. William Henry</td>\n",
       "      <td>male</td>\n",
       "      <td>35.0</td>\n",
       "      <td>0</td>\n",
       "      <td>0</td>\n",
       "      <td>373450</td>\n",
       "      <td>8.0500</td>\n",
       "      <td>NaN</td>\n",
       "      <td>S</td>\n",
       "    </tr>\n",
       "  </tbody>\n",
       "</table>\n",
       "</div>"
      ],
      "text/plain": [
       "   PassengerId  Survived  Pclass  \\\n",
       "0            1         0       3   \n",
       "1            2         1       1   \n",
       "2            3         1       3   \n",
       "3            4         1       1   \n",
       "4            5         0       3   \n",
       "\n",
       "                                                Name     Sex   Age  SibSp  \\\n",
       "0                            Braund, Mr. Owen Harris    male  22.0      1   \n",
       "1  Cumings, Mrs. John Bradley (Florence Briggs Th...  female  38.0      1   \n",
       "2                             Heikkinen, Miss. Laina  female  26.0      0   \n",
       "3       Futrelle, Mrs. Jacques Heath (Lily May Peel)  female  35.0      1   \n",
       "4                           Allen, Mr. William Henry    male  35.0      0   \n",
       "\n",
       "   Parch            Ticket     Fare Cabin Embarked  \n",
       "0      0         A/5 21171   7.2500   NaN        S  \n",
       "1      0          PC 17599  71.2833   C85        C  \n",
       "2      0  STON/O2. 3101282   7.9250   NaN        S  \n",
       "3      0            113803  53.1000  C123        S  \n",
       "4      0            373450   8.0500   NaN        S  "
      ]
     },
     "execution_count": 8,
     "metadata": {},
     "output_type": "execute_result"
    }
   ],
   "source": [
    "# Load the data from the titanic competition\n",
    "import pandas as pd\n",
    "titanic_data = pd.read_csv(\"../input/titanic/train.csv\")\n",
    "\n",
    "# Show the first five rows of the data\n",
    "titanic_data.head()"
   ]
  },
  {
   "cell_type": "markdown",
   "id": "55872e2a",
   "metadata": {
    "_cell_guid": "bf2539f0-c7c6-4b83-8f62-262cf4ed505a",
    "_uuid": "5ec1b3b9-9a75-497d-89bb-6572b65604dd",
    "papermill": {
     "duration": 0.008884,
     "end_time": "2022-08-07T16:54:13.549157",
     "exception": false,
     "start_time": "2022-08-07T16:54:13.540273",
     "status": "completed"
    },
    "tags": []
   },
   "source": [
    "The data has a different row for each passenger.  \n",
    "\n",
    "The next code cell defines and prints the values of three variables:  \n",
    "- `total` = total number of passengers who boarded the ship\n",
    "- `survived` = number of passengers who survived the shipwreck\n",
    "- `minors` = number of passengers under 18 years of age\n",
    "\n",
    "Run the code cell without changes.  (Don't worry about the details of how these variables are calculated for now.  You can learn more about how to calculate these values in the [Pandas course](https://www.kaggle.com/learn/pandas).)"
   ]
  },
  {
   "cell_type": "code",
   "execution_count": 9,
   "id": "27ce6f5c",
   "metadata": {
    "_cell_guid": "5e360de6-70d8-4af3-805c-baedf665f77d",
    "_uuid": "e93253a0-d060-405d-9564-389e0a96453f",
    "collapsed": false,
    "execution": {
     "iopub.execute_input": "2022-08-07T16:54:13.568421Z",
     "iopub.status.busy": "2022-08-07T16:54:13.567646Z",
     "iopub.status.idle": "2022-08-07T16:54:13.579944Z",
     "shell.execute_reply": "2022-08-07T16:54:13.578594Z"
    },
    "jupyter": {
     "outputs_hidden": false
    },
    "papermill": {
     "duration": 0.025004,
     "end_time": "2022-08-07T16:54:13.582462",
     "exception": false,
     "start_time": "2022-08-07T16:54:13.557458",
     "status": "completed"
    },
    "tags": []
   },
   "outputs": [
    {
     "name": "stdout",
     "output_type": "stream",
     "text": [
      "891\n",
      "342\n",
      "113\n"
     ]
    }
   ],
   "source": [
    "# Number of total passengers\n",
    "total = len(titanic_data)\n",
    "print(total)\n",
    "\n",
    "# Number of passengers who survived\n",
    "survived = (titanic_data.Survived == 1).sum()\n",
    "print(survived)\n",
    "\n",
    "# Number of passengers under 18\n",
    "minors = (titanic_data.Age < 18).sum()\n",
    "print(minors)"
   ]
  },
  {
   "cell_type": "markdown",
   "id": "3eac8096",
   "metadata": {
    "_cell_guid": "b6412733-c287-4893-abc4-518a9fc7bc08",
    "_uuid": "5c00c648-a398-4955-bcca-5f7a89669e0a",
    "papermill": {
     "duration": 0.008341,
     "end_time": "2022-08-07T16:54:13.599272",
     "exception": false,
     "start_time": "2022-08-07T16:54:13.590931",
     "status": "completed"
    },
    "tags": []
   },
   "source": [
    "So, \n",
    "- `total = 891` (there were 891 passengers on board the Titanic),\n",
    "- `survived = 342` (342 passengers survived), and \n",
    "- `minors = 113` (113 passengers were under the age of 18).\n",
    "\n",
    "In the code cell below, replace the underlines (`____`) with code to calculate the values for two more variables:\n",
    "- `survived_fraction` should be set to the fraction of passengers who survived the Titanic disaster.\n",
    "- `minors_fraction` should be the fraction of passengers who were minors (under the age of 18).\n",
    "\n",
    "For each variable, your answer should be a number between 0 and 1.  \n",
    "\n",
    "If you need a hint or want to view the solution, you can skip to the next code cell and uncomment the appropriate lines of code (`q5.hint()` and `q5.solution()`)."
   ]
  },
  {
   "cell_type": "code",
   "execution_count": 10,
   "id": "26a6a6be",
   "metadata": {
    "_cell_guid": "bdfb411f-896a-466e-a333-44f2fc9de995",
    "_uuid": "83ed42e9-9122-4495-8148-e491a62c81c8",
    "collapsed": false,
    "execution": {
     "iopub.execute_input": "2022-08-07T16:54:13.618810Z",
     "iopub.status.busy": "2022-08-07T16:54:13.618101Z",
     "iopub.status.idle": "2022-08-07T16:54:13.629631Z",
     "shell.execute_reply": "2022-08-07T16:54:13.628111Z"
    },
    "jupyter": {
     "outputs_hidden": false
    },
    "papermill": {
     "duration": 0.024058,
     "end_time": "2022-08-07T16:54:13.632087",
     "exception": false,
     "start_time": "2022-08-07T16:54:13.608029",
     "status": "completed"
    },
    "tags": []
   },
   "outputs": [
    {
     "name": "stdout",
     "output_type": "stream",
     "text": [
      "0.3838383838383838\n",
      "0.12682379349046016\n"
     ]
    },
    {
     "data": {
      "application/javascript": [
       "parent.postMessage({\"jupyterEvent\": \"custom.exercise_interaction\", \"data\": {\"outcomeType\": 1, \"valueTowardsCompletion\": 0.2, \"interactionType\": 1, \"questionType\": 1, \"questionId\": \"5_BonusTitanic\", \"learnToolsVersion\": \"0.3.4\", \"failureMessage\": \"\", \"exceptionClass\": \"\", \"trace\": \"\"}}, \"*\")"
      ],
      "text/plain": [
       "<IPython.core.display.Javascript object>"
      ]
     },
     "metadata": {},
     "output_type": "display_data"
    },
    {
     "data": {
      "text/markdown": [
       "<span style=\"color:#33cc33\">Correct</span>"
      ],
      "text/plain": [
       "Correct"
      ]
     },
     "metadata": {},
     "output_type": "display_data"
    }
   ],
   "source": [
    "# TODO: Fill in the value of the survived_fraction variable\n",
    "survived_fraction = 342 / 891 \n",
    "\n",
    "# Print the value of the variable\n",
    "print(survived_fraction)\n",
    "\n",
    "# TODO: Fill in the value of the minors_fraction variable\n",
    "minors_fraction = 113 / 891 \n",
    "\n",
    "# Print the value of the variable\n",
    "print(minors_fraction)\n",
    "\n",
    "# DO NOT REMOVE: Check your answer\n",
    "q5.check()"
   ]
  },
  {
   "cell_type": "code",
   "execution_count": 11,
   "id": "b0bc1166",
   "metadata": {
    "_cell_guid": "d6258cc8-b475-4abb-a26c-ffb37348cfc6",
    "_uuid": "09c10f85-6cea-4fa9-aba3-611ea29e4399",
    "collapsed": false,
    "execution": {
     "iopub.execute_input": "2022-08-07T16:54:13.650847Z",
     "iopub.status.busy": "2022-08-07T16:54:13.650414Z",
     "iopub.status.idle": "2022-08-07T16:54:13.654910Z",
     "shell.execute_reply": "2022-08-07T16:54:13.654081Z"
    },
    "jupyter": {
     "outputs_hidden": false
    },
    "papermill": {
     "duration": 0.016453,
     "end_time": "2022-08-07T16:54:13.657082",
     "exception": false,
     "start_time": "2022-08-07T16:54:13.640629",
     "status": "completed"
    },
    "tags": []
   },
   "outputs": [],
   "source": [
    "# Uncomment to receive a hint\n",
    "#q5.hint()\n",
    "\n",
    "# Uncomment to view the solution\n",
    "#q5.solution()"
   ]
  },
  {
   "cell_type": "markdown",
   "id": "26e0ca93",
   "metadata": {
    "_cell_guid": "d91922e2-dfee-4e12-ba86-dd04e42d1f0f",
    "_uuid": "3f82d635-94c6-449d-a836-b45ad21947d6",
    "papermill": {
     "duration": 0.008722,
     "end_time": "2022-08-07T16:54:13.675557",
     "exception": false,
     "start_time": "2022-08-07T16:54:13.666835",
     "status": "completed"
    },
    "tags": []
   },
   "source": [
    "# Bonus Exercise\n",
    "\n",
    "As an **optional** next step, you're encouraged to make a submission to the Titanic competition.  \n",
    "> To do this, follow the instructions in the **[notebook here](https://www.kaggle.com/alexisbcook/titanic-tutorial)**.  \n",
    "\n",
    "The notebook is beginner-friendly and does not assume you have any experience with coding.  At the same time, you'll learn how to author your own notebooks on Kaggle, and it gives you a great idea of what you'll be able to do if you continue to learn data science!\n",
    "\n",
    "# Keep going\n",
    "\n",
    "Congratulations!  You have just finished the first exercise in the Intro to Programming course!  \n",
    "\n",
    "You are now ready to learn how to **[organize your code with functions](https://www.kaggle.com/alexisbcook/functions)**."
   ]
  },
  {
   "cell_type": "markdown",
   "id": "78c1dcfd",
   "metadata": {
    "_cell_guid": "95e5953e-f8f4-44da-85b8-6c2fd16b0010",
    "_uuid": "66e306a8-90bc-49c3-805c-c66ee49128cc",
    "papermill": {
     "duration": 0.008264,
     "end_time": "2022-08-07T16:54:13.692941",
     "exception": false,
     "start_time": "2022-08-07T16:54:13.684677",
     "status": "completed"
    },
    "tags": []
   },
   "source": [
    "---\n",
    "\n",
    "\n",
    "\n",
    "\n",
    "*Have questions or comments? Visit the [course discussion forum](https://www.kaggle.com/learn/intro-to-programming/discussion) to chat with other learners.*"
   ]
  }
 ],
 "metadata": {
  "kernelspec": {
   "display_name": "Python 3",
   "language": "python",
   "name": "python3"
  },
  "language_info": {
   "codemirror_mode": {
    "name": "ipython",
    "version": 3
   },
   "file_extension": ".py",
   "mimetype": "text/x-python",
   "name": "python",
   "nbconvert_exporter": "python",
   "pygments_lexer": "ipython3",
   "version": "3.7.12"
  },
  "papermill": {
   "default_parameters": {},
   "duration": 12.009038,
   "end_time": "2022-08-07T16:54:14.323097",
   "environment_variables": {},
   "exception": null,
   "input_path": "__notebook__.ipynb",
   "output_path": "__notebook__.ipynb",
   "parameters": {},
   "start_time": "2022-08-07T16:54:02.314059",
   "version": "2.3.4"
  }
 },
 "nbformat": 4,
 "nbformat_minor": 5
}

{
 "cells": [
  {
   "cell_type": "markdown",
   "id": "3ebd6934",
   "metadata": {
    "papermill": {
     "duration": 0.007623,
     "end_time": "2022-08-10T19:52:58.202073",
     "exception": false,
     "start_time": "2022-08-10T19:52:58.194450",
     "status": "completed"
    },
    "tags": []
   },
   "source": [
    "**This notebook is an exercise in the [Intro to Programming](https://www.kaggle.com/learn/intro-to-programming) course.  You can reference the tutorial at [this link](https://www.kaggle.com/alexisbcook/intro-to-lists).**\n",
    "\n",
    "---\n"
   ]
  },
  {
   "cell_type": "markdown",
   "id": "7d864fc0",
   "metadata": {
    "papermill": {
     "duration": 0.005759,
     "end_time": "2022-08-10T19:52:58.214105",
     "exception": false,
     "start_time": "2022-08-10T19:52:58.208346",
     "status": "completed"
    },
    "tags": []
   },
   "source": [
    "In the tutorial, you learned how to define and modify Python lists.  In this exercise, you will use your new knowledge to solve several problems.\n",
    "\n",
    "# Set up the notebook\n",
    "\n",
    "Run the next code cell without changes to set up the notebook."
   ]
  },
  {
   "cell_type": "code",
   "execution_count": 1,
   "id": "a5718a5c",
   "metadata": {
    "execution": {
     "iopub.execute_input": "2022-08-10T19:52:58.227946Z",
     "iopub.status.busy": "2022-08-10T19:52:58.227480Z",
     "iopub.status.idle": "2022-08-10T19:52:58.274868Z",
     "shell.execute_reply": "2022-08-10T19:52:58.273628Z"
    },
    "papermill": {
     "duration": 0.058636,
     "end_time": "2022-08-10T19:52:58.278696",
     "exception": false,
     "start_time": "2022-08-10T19:52:58.220060",
     "status": "completed"
    },
    "tags": []
   },
   "outputs": [
    {
     "name": "stdout",
     "output_type": "stream",
     "text": [
      "Setup complete.\n"
     ]
    }
   ],
   "source": [
    "from learntools.core import binder\n",
    "binder.bind(globals())\n",
    "from learntools.intro_to_programming.ex5 import *\n",
    "print('Setup complete.')"
   ]
  },
  {
   "cell_type": "markdown",
   "id": "0389241a",
   "metadata": {
    "papermill": {
     "duration": 0.006044,
     "end_time": "2022-08-10T19:52:58.292180",
     "exception": false,
     "start_time": "2022-08-10T19:52:58.286136",
     "status": "completed"
    },
    "tags": []
   },
   "source": [
    "# Question 1\n",
    "\n",
    "You own a restaurant with five food dishes, organized in the Python list `menu` below.  One day, you decide to:\n",
    "- remove bean soup (`'bean soup'`) from the menu, and\n",
    "- add roasted beet salad (`'roasted beet salad'`) to the menu.\n",
    "\n",
    "Implement this change to the list below.  While completing this task, \n",
    "- do not change the line that creates the `menu` list.  \n",
    "- your answer should use `.remove()` and `.append()`.  "
   ]
  },
  {
   "cell_type": "code",
   "execution_count": 2,
   "id": "abc572be",
   "metadata": {
    "execution": {
     "iopub.execute_input": "2022-08-10T19:52:58.306728Z",
     "iopub.status.busy": "2022-08-10T19:52:58.306021Z",
     "iopub.status.idle": "2022-08-10T19:52:58.318862Z",
     "shell.execute_reply": "2022-08-10T19:52:58.317868Z"
    },
    "papermill": {
     "duration": 0.022579,
     "end_time": "2022-08-10T19:52:58.320934",
     "exception": false,
     "start_time": "2022-08-10T19:52:58.298355",
     "status": "completed"
    },
    "tags": []
   },
   "outputs": [
    {
     "name": "stdout",
     "output_type": "stream",
     "text": [
      "['stewed meat with onions', 'risotto with trout and shrimp', 'fish soup with cream and onion', 'gyro', 'roasted beet salad']\n"
     ]
    },
    {
     "data": {
      "application/javascript": [
       "parent.postMessage({\"jupyterEvent\": \"custom.exercise_interaction\", \"data\": {\"outcomeType\": 1, \"valueTowardsCompletion\": 0.2, \"interactionType\": 1, \"questionType\": 2, \"questionId\": \"1_FoodMenu\", \"learnToolsVersion\": \"0.3.4\", \"failureMessage\": \"\", \"exceptionClass\": \"\", \"trace\": \"\"}}, \"*\")"
      ],
      "text/plain": [
       "<IPython.core.display.Javascript object>"
      ]
     },
     "metadata": {},
     "output_type": "display_data"
    },
    {
     "data": {
      "text/markdown": [
       "<span style=\"color:#33cc33\">Correct</span>"
      ],
      "text/plain": [
       "Correct"
      ]
     },
     "metadata": {},
     "output_type": "display_data"
    }
   ],
   "source": [
    "# Do not change: Initial menu for your restaurant\n",
    "menu = ['stewed meat with onions', 'bean soup', 'risotto with trout and shrimp',\n",
    "       'fish soup with cream and onion', 'gyro']\n",
    "\n",
    "# TODO: remove 'bean soup', and add 'roasted beet salad' to the end of the menu\n",
    "menu.remove(\"bean soup\")\n",
    "menu.append(\"roasted beet salad\")\n",
    "\n",
    "print(menu)\n",
    "# Do not change: Check your answer\n",
    "q1.check()"
   ]
  },
  {
   "cell_type": "code",
   "execution_count": 3,
   "id": "aaf0468c",
   "metadata": {
    "execution": {
     "iopub.execute_input": "2022-08-10T19:52:58.335749Z",
     "iopub.status.busy": "2022-08-10T19:52:58.335085Z",
     "iopub.status.idle": "2022-08-10T19:52:58.339505Z",
     "shell.execute_reply": "2022-08-10T19:52:58.338782Z"
    },
    "papermill": {
     "duration": 0.01429,
     "end_time": "2022-08-10T19:52:58.341647",
     "exception": false,
     "start_time": "2022-08-10T19:52:58.327357",
     "status": "completed"
    },
    "tags": []
   },
   "outputs": [],
   "source": [
    "# Uncomment to see a hint\n",
    "#q1.hint()\n",
    "\n",
    "# Uncomment to see the solution\n",
    "#q1.solution()"
   ]
  },
  {
   "cell_type": "markdown",
   "id": "7095a027",
   "metadata": {
    "papermill": {
     "duration": 0.006161,
     "end_time": "2022-08-10T19:52:58.354329",
     "exception": false,
     "start_time": "2022-08-10T19:52:58.348168",
     "status": "completed"
    },
    "tags": []
   },
   "source": [
    "# Question 2\n",
    "\n",
    "The list `num_customers` contains the number of customers who came into your restaurant every day over the last month (which lasted thirty days).  Fill in values for each of the following:\n",
    "- `avg_first_seven` - average number of customers who visited in the first seven days\n",
    "- `avg_last_seven` - average number of customers who visited in the last seven days\n",
    "- `max_month` - number of customers on the day that got the most customers in the last month\n",
    "- `min_month` - number of customers on the day that got the least customers in the last month\n",
    "\n",
    "Answer this question by writing code.  For instance, if you have to find the minimum value in a list, use `min()` instead of scanning for the smallest value and directly filling in a number."
   ]
  },
  {
   "cell_type": "code",
   "execution_count": 4,
   "id": "185c4f79",
   "metadata": {
    "execution": {
     "iopub.execute_input": "2022-08-10T19:52:58.369334Z",
     "iopub.status.busy": "2022-08-10T19:52:58.368590Z",
     "iopub.status.idle": "2022-08-10T19:52:58.379475Z",
     "shell.execute_reply": "2022-08-10T19:52:58.378659Z"
    },
    "papermill": {
     "duration": 0.020849,
     "end_time": "2022-08-10T19:52:58.381538",
     "exception": false,
     "start_time": "2022-08-10T19:52:58.360689",
     "status": "completed"
    },
    "tags": []
   },
   "outputs": [
    {
     "data": {
      "application/javascript": [
       "parent.postMessage({\"jupyterEvent\": \"custom.exercise_interaction\", \"data\": {\"outcomeType\": 1, \"valueTowardsCompletion\": 0.2, \"interactionType\": 1, \"questionType\": 1, \"questionId\": \"2_NumCustomers\", \"learnToolsVersion\": \"0.3.4\", \"failureMessage\": \"\", \"exceptionClass\": \"\", \"trace\": \"\"}}, \"*\")"
      ],
      "text/plain": [
       "<IPython.core.display.Javascript object>"
      ]
     },
     "metadata": {},
     "output_type": "display_data"
    },
    {
     "data": {
      "text/markdown": [
       "<span style=\"color:#33cc33\">Correct</span>"
      ],
      "text/plain": [
       "Correct"
      ]
     },
     "metadata": {},
     "output_type": "display_data"
    }
   ],
   "source": [
    "# Do not change: Number of customers each day for the last month\n",
    "num_customers = [137, 147, 135, 128, 170, 174, 165, 146, 126, 159,\n",
    "                 141, 148, 132, 147, 168, 153, 170, 161, 148, 152,\n",
    "                 141, 151, 131, 149, 164, 163, 143, 143, 166, 171]\n",
    "\n",
    "# TODO: Fill in values for the variables below\n",
    "avg_first_seven = (sum(num_customers[:7]))/7 \n",
    "avg_last_seven = sum(num_customers[-7:])/7 \n",
    "max_month = max(num_customers)\n",
    "min_month = min(num_customers)\n",
    "\n",
    "# Do not change: Check your answer\n",
    "q2.check()"
   ]
  },
  {
   "cell_type": "code",
   "execution_count": 5,
   "id": "a256b6ab",
   "metadata": {
    "execution": {
     "iopub.execute_input": "2022-08-10T19:52:58.397057Z",
     "iopub.status.busy": "2022-08-10T19:52:58.396656Z",
     "iopub.status.idle": "2022-08-10T19:52:58.401269Z",
     "shell.execute_reply": "2022-08-10T19:52:58.400035Z"
    },
    "papermill": {
     "duration": 0.014818,
     "end_time": "2022-08-10T19:52:58.403318",
     "exception": false,
     "start_time": "2022-08-10T19:52:58.388500",
     "status": "completed"
    },
    "tags": []
   },
   "outputs": [],
   "source": [
    "# Uncomment to see a hint\n",
    "#q2.hint()\n",
    "\n",
    "# Uncomment to see the solution\n",
    "#q2.solution()"
   ]
  },
  {
   "cell_type": "markdown",
   "id": "326c3098",
   "metadata": {
    "papermill": {
     "duration": 0.0063,
     "end_time": "2022-08-10T19:52:58.416358",
     "exception": false,
     "start_time": "2022-08-10T19:52:58.410058",
     "status": "completed"
    },
    "tags": []
   },
   "source": [
    "# Question 3\n",
    "\n",
    "In the tutorial, we gave an example of a Python string with information that was better as a list."
   ]
  },
  {
   "cell_type": "code",
   "execution_count": 6,
   "id": "b7adc3a6",
   "metadata": {
    "execution": {
     "iopub.execute_input": "2022-08-10T19:52:58.431069Z",
     "iopub.status.busy": "2022-08-10T19:52:58.430645Z",
     "iopub.status.idle": "2022-08-10T19:52:58.434954Z",
     "shell.execute_reply": "2022-08-10T19:52:58.434177Z"
    },
    "papermill": {
     "duration": 0.014047,
     "end_time": "2022-08-10T19:52:58.436902",
     "exception": false,
     "start_time": "2022-08-10T19:52:58.422855",
     "status": "completed"
    },
    "tags": []
   },
   "outputs": [],
   "source": [
    "flowers = \"pink primrose,hard-leaved pocket orchid,canterbury bells,sweet pea,english marigold,tiger lily,moon orchid,bird of paradise,monkshood,globe thistle\""
   ]
  },
  {
   "cell_type": "markdown",
   "id": "f2d0a0fa",
   "metadata": {
    "papermill": {
     "duration": 0.006339,
     "end_time": "2022-08-10T19:52:58.449884",
     "exception": false,
     "start_time": "2022-08-10T19:52:58.443545",
     "status": "completed"
    },
    "tags": []
   },
   "source": [
    "You can actually use Python to quickly turn this string into a list with `.split()`.  In the parentheses, we need to provide the character should be used to mark the end of one list item and the beginning of another, and enclose it in quotation marks.  In this case, that character is a comma."
   ]
  },
  {
   "cell_type": "code",
   "execution_count": 7,
   "id": "19d97018",
   "metadata": {
    "execution": {
     "iopub.execute_input": "2022-08-10T19:52:58.465784Z",
     "iopub.status.busy": "2022-08-10T19:52:58.465080Z",
     "iopub.status.idle": "2022-08-10T19:52:58.470350Z",
     "shell.execute_reply": "2022-08-10T19:52:58.469204Z"
    },
    "papermill": {
     "duration": 0.01575,
     "end_time": "2022-08-10T19:52:58.472923",
     "exception": false,
     "start_time": "2022-08-10T19:52:58.457173",
     "status": "completed"
    },
    "tags": []
   },
   "outputs": [
    {
     "name": "stdout",
     "output_type": "stream",
     "text": [
      "['pink primrose', 'hard-leaved pocket orchid', 'canterbury bells', 'sweet pea', 'english marigold', 'tiger lily', 'moon orchid', 'bird of paradise', 'monkshood', 'globe thistle']\n"
     ]
    }
   ],
   "source": [
    " print(flowers.split(\",\"))"
   ]
  },
  {
   "cell_type": "markdown",
   "id": "c345f76a",
   "metadata": {
    "papermill": {
     "duration": 0.006479,
     "end_time": "2022-08-10T19:52:58.486121",
     "exception": false,
     "start_time": "2022-08-10T19:52:58.479642",
     "status": "completed"
    },
    "tags": []
   },
   "source": [
    "Now it is your turn to try this out!  Create two Python lists:\n",
    "- `letters` should be a Python list where each entry is an uppercase letter of the English alphabet.  For instance, the first two entries should be `\"A\"` and `\"B\"`, and the final two entries should be `\"Y\"` and `\"Z\"`.  Use the string `alphabet` to create this list.\n",
    "- `address` should be a Python list where each row in `address` is a different item in the list.  Currently, each row in `address` is separated by a comma. "
   ]
  },
  {
   "cell_type": "code",
   "execution_count": 8,
   "id": "bea16b2c",
   "metadata": {
    "execution": {
     "iopub.execute_input": "2022-08-10T19:52:58.501816Z",
     "iopub.status.busy": "2022-08-10T19:52:58.500941Z",
     "iopub.status.idle": "2022-08-10T19:52:58.509419Z",
     "shell.execute_reply": "2022-08-10T19:52:58.508361Z"
    },
    "papermill": {
     "duration": 0.018679,
     "end_time": "2022-08-10T19:52:58.511511",
     "exception": false,
     "start_time": "2022-08-10T19:52:58.492832",
     "status": "completed"
    },
    "tags": []
   },
   "outputs": [
    {
     "data": {
      "application/javascript": [
       "parent.postMessage({\"jupyterEvent\": \"custom.exercise_interaction\", \"data\": {\"outcomeType\": 1, \"valueTowardsCompletion\": 0.2, \"interactionType\": 1, \"questionType\": 1, \"questionId\": \"3_SplitString\", \"learnToolsVersion\": \"0.3.4\", \"failureMessage\": \"\", \"exceptionClass\": \"\", \"trace\": \"\"}}, \"*\")"
      ],
      "text/plain": [
       "<IPython.core.display.Javascript object>"
      ]
     },
     "metadata": {},
     "output_type": "display_data"
    },
    {
     "data": {
      "text/markdown": [
       "<span style=\"color:#33cc33\">Correct</span>"
      ],
      "text/plain": [
       "Correct"
      ]
     },
     "metadata": {},
     "output_type": "display_data"
    }
   ],
   "source": [
    "# DO not change: Define two Python strings\n",
    "alphabet = \"A.B.C.D.E.F.G.H.I.J.K.L.M.N.O.P.Q.R.S.T.U.V.W.X.Y.Z\"\n",
    "address = \"Mr. H. Potter,The cupboard under the Stairs,4 Privet Drive,Little Whinging,Surrey\"\n",
    "\n",
    "# TODO: Convert strings into Python lists\n",
    "letters = alphabet.split(\".\")\n",
    "formatted_address = address.split(\",\")\n",
    "\n",
    "# Do not change: Check your answer\n",
    "q3.check()"
   ]
  },
  {
   "cell_type": "code",
   "execution_count": 9,
   "id": "772088fc",
   "metadata": {
    "execution": {
     "iopub.execute_input": "2022-08-10T19:52:58.527873Z",
     "iopub.status.busy": "2022-08-10T19:52:58.527199Z",
     "iopub.status.idle": "2022-08-10T19:52:58.530824Z",
     "shell.execute_reply": "2022-08-10T19:52:58.530108Z"
    },
    "papermill": {
     "duration": 0.013862,
     "end_time": "2022-08-10T19:52:58.532762",
     "exception": false,
     "start_time": "2022-08-10T19:52:58.518900",
     "status": "completed"
    },
    "tags": []
   },
   "outputs": [],
   "source": [
    "# Uncomment to see a hint\n",
    "#q3.hint()\n",
    "\n",
    "# Uncomment to see the solution\n",
    "#q3.solution()"
   ]
  },
  {
   "cell_type": "markdown",
   "id": "5ffe29ef",
   "metadata": {
    "papermill": {
     "duration": 0.006634,
     "end_time": "2022-08-10T19:52:58.546485",
     "exception": false,
     "start_time": "2022-08-10T19:52:58.539851",
     "status": "completed"
    },
    "tags": []
   },
   "source": [
    "# Question 4\n",
    "\n",
    "In the Python course, you'll learn all about **list comprehensions**, which allow you to create a list based on the values in another list.  In this question, you'll get a brief preview of how they work.\n",
    "\n",
    "Say we're working with the list below."
   ]
  },
  {
   "cell_type": "code",
   "execution_count": 10,
   "id": "aad9cd5f",
   "metadata": {
    "execution": {
     "iopub.execute_input": "2022-08-10T19:52:58.561854Z",
     "iopub.status.busy": "2022-08-10T19:52:58.561431Z",
     "iopub.status.idle": "2022-08-10T19:52:58.566235Z",
     "shell.execute_reply": "2022-08-10T19:52:58.565200Z"
    },
    "papermill": {
     "duration": 0.01518,
     "end_time": "2022-08-10T19:52:58.568519",
     "exception": false,
     "start_time": "2022-08-10T19:52:58.553339",
     "status": "completed"
    },
    "tags": []
   },
   "outputs": [],
   "source": [
    "test_ratings = [1, 2, 3, 4, 5]"
   ]
  },
  {
   "cell_type": "markdown",
   "id": "716b58b7",
   "metadata": {
    "papermill": {
     "duration": 0.007559,
     "end_time": "2022-08-10T19:52:58.584761",
     "exception": false,
     "start_time": "2022-08-10T19:52:58.577202",
     "status": "completed"
    },
    "tags": []
   },
   "source": [
    "Then we can use this list (`test_ratings`) to create a new list (`test_liked`) where each item has been turned into a boolean, depending on whether or not the item is greater than or equal to four."
   ]
  },
  {
   "cell_type": "code",
   "execution_count": 11,
   "id": "9b92ae05",
   "metadata": {
    "execution": {
     "iopub.execute_input": "2022-08-10T19:52:58.600640Z",
     "iopub.status.busy": "2022-08-10T19:52:58.600253Z",
     "iopub.status.idle": "2022-08-10T19:52:58.605570Z",
     "shell.execute_reply": "2022-08-10T19:52:58.604568Z"
    },
    "papermill": {
     "duration": 0.016104,
     "end_time": "2022-08-10T19:52:58.607948",
     "exception": false,
     "start_time": "2022-08-10T19:52:58.591844",
     "status": "completed"
    },
    "tags": []
   },
   "outputs": [
    {
     "name": "stdout",
     "output_type": "stream",
     "text": [
      "[False, False, False, True, True]\n"
     ]
    }
   ],
   "source": [
    "test_liked = [i>=4 for i in test_ratings]\n",
    "print(test_liked)"
   ]
  },
  {
   "cell_type": "markdown",
   "id": "33a81372",
   "metadata": {
    "papermill": {
     "duration": 0.007014,
     "end_time": "2022-08-10T19:52:58.622526",
     "exception": false,
     "start_time": "2022-08-10T19:52:58.615512",
     "status": "completed"
    },
    "tags": []
   },
   "source": [
    "In this question, you'll use this list comprehension to define a function `percentage_liked()` that takes one argument as input:\n",
    "- `ratings`: list of ratings that people gave to a movie, where each rating is a number between 1-5, inclusive\n",
    "\n",
    "We say someone liked the movie, if they gave a rating of either 4 or 5.  Your function should return the percentage of people who liked the movie.\n",
    "\n",
    "For instance, if we supply a value of `[1, 2, 3, 4, 5, 4, 5, 1]`, then 50% (4/8) of the people liked the movie, and the function should return `0.5`.\n",
    "\n",
    "Part of the function has already been completed for you.  You need only use `list_liked` to calculate `percentage_liked`."
   ]
  },
  {
   "cell_type": "code",
   "execution_count": 12,
   "id": "08adbeb5",
   "metadata": {
    "execution": {
     "iopub.execute_input": "2022-08-10T19:52:58.638992Z",
     "iopub.status.busy": "2022-08-10T19:52:58.638190Z",
     "iopub.status.idle": "2022-08-10T19:52:58.648428Z",
     "shell.execute_reply": "2022-08-10T19:52:58.647616Z"
    },
    "papermill": {
     "duration": 0.020925,
     "end_time": "2022-08-10T19:52:58.650606",
     "exception": false,
     "start_time": "2022-08-10T19:52:58.629681",
     "status": "completed"
    },
    "tags": []
   },
   "outputs": [
    {
     "data": {
      "application/javascript": [
       "parent.postMessage({\"jupyterEvent\": \"custom.exercise_interaction\", \"data\": {\"outcomeType\": 1, \"valueTowardsCompletion\": 0.2, \"interactionType\": 1, \"questionType\": 2, \"questionId\": \"4_PercentageLiked\", \"learnToolsVersion\": \"0.3.4\", \"failureMessage\": \"\", \"exceptionClass\": \"\", \"trace\": \"\"}}, \"*\")"
      ],
      "text/plain": [
       "<IPython.core.display.Javascript object>"
      ]
     },
     "metadata": {},
     "output_type": "display_data"
    },
    {
     "data": {
      "text/markdown": [
       "<span style=\"color:#33cc33\">Correct</span>"
      ],
      "text/plain": [
       "Correct"
      ]
     },
     "metadata": {},
     "output_type": "display_data"
    }
   ],
   "source": [
    "\n",
    "def percentage_liked(ratings):\n",
    "    list_liked = [i>=4 for i in ratings]\n",
    "    # TODO: Complete the function\n",
    "    percentage_liked = sum(list_liked)/len(list_liked)\n",
    "    return percentage_liked\n",
    "\n",
    "# Do not change: should return 0.5\n",
    "percentage_liked([1, 2, 3, 4, 5, 4, 5, 1])\n",
    "\n",
    "# Do not change: Check your answer\n",
    "q4.check()"
   ]
  },
  {
   "cell_type": "code",
   "execution_count": 13,
   "id": "ea653d71",
   "metadata": {
    "execution": {
     "iopub.execute_input": "2022-08-10T19:52:58.667343Z",
     "iopub.status.busy": "2022-08-10T19:52:58.666361Z",
     "iopub.status.idle": "2022-08-10T19:52:58.671032Z",
     "shell.execute_reply": "2022-08-10T19:52:58.670271Z"
    },
    "papermill": {
     "duration": 0.015164,
     "end_time": "2022-08-10T19:52:58.673159",
     "exception": false,
     "start_time": "2022-08-10T19:52:58.657995",
     "status": "completed"
    },
    "tags": []
   },
   "outputs": [],
   "source": [
    "# Uncomment to see a hint\n",
    "#q4.hint()\n",
    "\n",
    "# Uncomment to see the solution\n",
    "#q4.solution()"
   ]
  },
  {
   "cell_type": "markdown",
   "id": "fd0d9eda",
   "metadata": {
    "papermill": {
     "duration": 0.006951,
     "end_time": "2022-08-10T19:52:58.687218",
     "exception": false,
     "start_time": "2022-08-10T19:52:58.680267",
     "status": "completed"
    },
    "tags": []
   },
   "source": [
    "# 🌶️ Question 5\n",
    " \n",
    "Say you're doing analytics for a website.  You need to write a function that returns the percentage growth in the total number of users relative to a specified number of years ago.\n",
    "\n",
    "Your function `percentage_growth()` should take two arguments as input:\n",
    "- `num_users` = Python list with the total number of users each year.  So `num_users[0]` is the total number of users in the first year, `num_users[1]` is the total number of users in the second year, and so on.  The final entry in the list gives the total number of users in the most recently completed year.\n",
    "- `yrs_ago` = number of years to go back in time when calculating the growth percentage\n",
    "\n",
    "For instance, say `num_users = [920344, 1043553, 1204334, 1458996, 1503323, 1593432, 1623463, 1843064, 1930992, 2001078]`.\n",
    "- if `yrs_ago = 1`, we want the function to return a value of about `0.036`. This corresponds to a percentage growth of approximately 3.6%, calculated as (2001078 - 1930992)/1930992.\n",
    "- if `years_ago = 7`, we would want to return approximately `0.66`.  This corresponds to a percentage growth of approximately 66%, calculated as (2001078 - 1204334)/1204334.\n",
    "\n",
    "Your coworker sent you a draft of a function, but it doesn't seem to be doing the correct calculation.  Can you figure out what has gone wrong and make the needed changes?"
   ]
  },
  {
   "cell_type": "code",
   "execution_count": 14,
   "id": "d9bd8699",
   "metadata": {
    "execution": {
     "iopub.execute_input": "2022-08-10T19:52:58.703836Z",
     "iopub.status.busy": "2022-08-10T19:52:58.703070Z",
     "iopub.status.idle": "2022-08-10T19:52:58.717535Z",
     "shell.execute_reply": "2022-08-10T19:52:58.716583Z"
    },
    "papermill": {
     "duration": 0.025352,
     "end_time": "2022-08-10T19:52:58.719835",
     "exception": false,
     "start_time": "2022-08-10T19:52:58.694483",
     "status": "completed"
    },
    "tags": []
   },
   "outputs": [
    {
     "name": "stdout",
     "output_type": "stream",
     "text": [
      "0.03629533421163837\n",
      "0.6615639847417742\n"
     ]
    },
    {
     "data": {
      "application/javascript": [
       "parent.postMessage({\"jupyterEvent\": \"custom.exercise_interaction\", \"data\": {\"outcomeType\": 1, \"valueTowardsCompletion\": 0.2, \"interactionType\": 1, \"questionType\": 2, \"questionId\": \"5_WebsiteAnalytics\", \"learnToolsVersion\": \"0.3.4\", \"failureMessage\": \"\", \"exceptionClass\": \"\", \"trace\": \"\"}}, \"*\")"
      ],
      "text/plain": [
       "<IPython.core.display.Javascript object>"
      ]
     },
     "metadata": {},
     "output_type": "display_data"
    },
    {
     "data": {
      "text/markdown": [
       "<span style=\"color:#33cc33\">Correct</span>"
      ],
      "text/plain": [
       "Correct"
      ]
     },
     "metadata": {},
     "output_type": "display_data"
    }
   ],
   "source": [
    "# TODO: Edit the function\n",
    "def percentage_growth(num_users, yrs_ago):\n",
    "    growth = (num_users[len(num_users)-1] - num_users[len(num_users)-yrs_ago-1])/num_users[len(num_users)-yrs_ago-1]\n",
    "    return growth\n",
    "\n",
    "# Do not change: Variable for calculating some test examples\n",
    "num_users_test = [920344, 1043553, 1204334, 1458996, 1503323, 1593432, 1623463, 1843064, 1930992, 2001078]\n",
    "\n",
    "# Do not change: Should return .036\n",
    "print(percentage_growth(num_users_test, 1))\n",
    "\n",
    "# Do not change: Should return 0.66\n",
    "print(percentage_growth(num_users_test, 7))\n",
    "\n",
    "# Do not change: Check your answer\n",
    "q5.check()"
   ]
  },
  {
   "cell_type": "code",
   "execution_count": 15,
   "id": "c038d831",
   "metadata": {
    "execution": {
     "iopub.execute_input": "2022-08-10T19:52:58.737323Z",
     "iopub.status.busy": "2022-08-10T19:52:58.736340Z",
     "iopub.status.idle": "2022-08-10T19:52:58.741089Z",
     "shell.execute_reply": "2022-08-10T19:52:58.740371Z"
    },
    "papermill": {
     "duration": 0.015808,
     "end_time": "2022-08-10T19:52:58.743213",
     "exception": false,
     "start_time": "2022-08-10T19:52:58.727405",
     "status": "completed"
    },
    "tags": []
   },
   "outputs": [],
   "source": [
    "# Uncomment to see a hint\n",
    "#q5.hint()\n",
    "\n",
    "# Uncomment to see the solution\n",
    "#q5.solution()"
   ]
  },
  {
   "cell_type": "markdown",
   "id": "c8c6bfe2",
   "metadata": {
    "papermill": {
     "duration": 0.007155,
     "end_time": "2022-08-10T19:52:58.757749",
     "exception": false,
     "start_time": "2022-08-10T19:52:58.750594",
     "status": "completed"
    },
    "tags": []
   },
   "source": [
    "# Congratulations!\n",
    "\n",
    "Congratulations for finishing the Intro to Programming course!  You should be proud of your very first steps with learning programming.  As next steps, we recommend taking:\n",
    "- the **[Python course](http://www.kaggle.com/learn/python)**, and \n",
    "- the **[Intro to Machine Learning course](https://www.kaggle.com/learn/intro-to-machine-learning)**."
   ]
  },
  {
   "cell_type": "markdown",
   "id": "4b6a2b35",
   "metadata": {
    "papermill": {
     "duration": 0.007159,
     "end_time": "2022-08-10T19:52:58.772321",
     "exception": false,
     "start_time": "2022-08-10T19:52:58.765162",
     "status": "completed"
    },
    "tags": []
   },
   "source": [
    "---\n",
    "\n",
    "\n",
    "\n",
    "\n",
    "*Have questions or comments? Visit the [course discussion forum](https://www.kaggle.com/learn/intro-to-programming/discussion) to chat with other learners.*"
   ]
  }
 ],
 "metadata": {
  "kernelspec": {
   "display_name": "Python 3",
   "language": "python",
   "name": "python3"
  },
  "language_info": {
   "codemirror_mode": {
    "name": "ipython",
    "version": 3
   },
   "file_extension": ".py",
   "mimetype": "text/x-python",
   "name": "python",
   "nbconvert_exporter": "python",
   "pygments_lexer": "ipython3",
   "version": "3.7.12"
  },
  "papermill": {
   "default_parameters": {},
   "duration": 9.725953,
   "end_time": "2022-08-10T19:52:59.401045",
   "environment_variables": {},
   "exception": null,
   "input_path": "__notebook__.ipynb",
   "output_path": "__notebook__.ipynb",
   "parameters": {},
   "start_time": "2022-08-10T19:52:49.675092",
   "version": "2.3.4"
  }
 },
 "nbformat": 4,
 "nbformat_minor": 5
}

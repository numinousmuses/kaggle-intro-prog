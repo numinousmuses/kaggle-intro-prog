{
 "cells": [
  {
   "cell_type": "markdown",
   "id": "179b6645",
   "metadata": {
    "papermill": {
     "duration": 0.007766,
     "end_time": "2022-08-09T02:24:29.367325",
     "exception": false,
     "start_time": "2022-08-09T02:24:29.359559",
     "status": "completed"
    },
    "tags": []
   },
   "source": [
    "**This notebook is an exercise in the [Intro to Programming](https://www.kaggle.com/learn/intro-to-programming) course.  You can reference the tutorial at [this link](https://www.kaggle.com/alexisbcook/data-types).**\n",
    "\n",
    "---\n"
   ]
  },
  {
   "cell_type": "markdown",
   "id": "3d1d4e36",
   "metadata": {
    "papermill": {
     "duration": 0.006136,
     "end_time": "2022-08-09T02:24:29.379953",
     "exception": false,
     "start_time": "2022-08-09T02:24:29.373817",
     "status": "completed"
    },
    "tags": []
   },
   "source": [
    "In the tutorial, you learned about four different data types: floats, integers, strings, and booleans.  In this exercise, you'll experiment with them.\n",
    "\n",
    "# Set up the notebook\n",
    "\n",
    "Run the next code cell without changes to set up the notebook."
   ]
  },
  {
   "cell_type": "code",
   "execution_count": 1,
   "id": "41622432",
   "metadata": {
    "execution": {
     "iopub.execute_input": "2022-08-09T02:24:29.394664Z",
     "iopub.status.busy": "2022-08-09T02:24:29.394217Z",
     "iopub.status.idle": "2022-08-09T02:24:29.449947Z",
     "shell.execute_reply": "2022-08-09T02:24:29.448756Z"
    },
    "papermill": {
     "duration": 0.066382,
     "end_time": "2022-08-09T02:24:29.452645",
     "exception": false,
     "start_time": "2022-08-09T02:24:29.386263",
     "status": "completed"
    },
    "tags": []
   },
   "outputs": [
    {
     "name": "stdout",
     "output_type": "stream",
     "text": [
      "Setup complete.\n"
     ]
    }
   ],
   "source": [
    "# Set up the exercise\n",
    "from learntools.core import binder\n",
    "binder.bind(globals())\n",
    "from learntools.intro_to_programming.ex3 import *\n",
    "print('Setup complete.')"
   ]
  },
  {
   "cell_type": "markdown",
   "id": "959d31be",
   "metadata": {
    "papermill": {
     "duration": 0.006029,
     "end_time": "2022-08-09T02:24:29.465389",
     "exception": false,
     "start_time": "2022-08-09T02:24:29.459360",
     "status": "completed"
    },
    "tags": []
   },
   "source": [
    "# Question 1\n",
    "\n",
    "You have seen how to convert a float to an integer with the `int` function.  Try this out yourself by running the code cell below."
   ]
  },
  {
   "cell_type": "code",
   "execution_count": 2,
   "id": "30051582",
   "metadata": {
    "execution": {
     "iopub.execute_input": "2022-08-09T02:24:29.480212Z",
     "iopub.status.busy": "2022-08-09T02:24:29.479470Z",
     "iopub.status.idle": "2022-08-09T02:24:29.485440Z",
     "shell.execute_reply": "2022-08-09T02:24:29.484603Z"
    },
    "papermill": {
     "duration": 0.016053,
     "end_time": "2022-08-09T02:24:29.487898",
     "exception": false,
     "start_time": "2022-08-09T02:24:29.471845",
     "status": "completed"
    },
    "tags": []
   },
   "outputs": [
    {
     "name": "stdout",
     "output_type": "stream",
     "text": [
      "1.0\n",
      "<class 'float'>\n",
      "1\n",
      "<class 'int'>\n"
     ]
    }
   ],
   "source": [
    "# Define a float\n",
    "y = 1.\n",
    "print(y)\n",
    "print(type(y))\n",
    "\n",
    "# Convert float to integer with the int function\n",
    "z = int(y)\n",
    "print(z)\n",
    "print(type(z))"
   ]
  },
  {
   "cell_type": "markdown",
   "id": "0d12d758",
   "metadata": {
    "papermill": {
     "duration": 0.006138,
     "end_time": "2022-08-09T02:24:29.500399",
     "exception": false,
     "start_time": "2022-08-09T02:24:29.494261",
     "status": "completed"
    },
    "tags": []
   },
   "source": [
    "In this case, the float you are using has no numbers after the decimal.  \n",
    "- But what happens when you try to convert a float with a fractional part to an integer?  \n",
    "- How does the outcome of the `int` function change for positive and negative numbers?\n",
    "\n",
    "Use the next code cell to investigate and answer these questions.  Feel free to add or remove any lines of code -- it is your workspace!"
   ]
  },
  {
   "cell_type": "code",
   "execution_count": 3,
   "id": "0f9a9bb4",
   "metadata": {
    "execution": {
     "iopub.execute_input": "2022-08-09T02:24:29.515200Z",
     "iopub.status.busy": "2022-08-09T02:24:29.514313Z",
     "iopub.status.idle": "2022-08-09T02:24:29.520238Z",
     "shell.execute_reply": "2022-08-09T02:24:29.519058Z"
    },
    "papermill": {
     "duration": 0.015926,
     "end_time": "2022-08-09T02:24:29.522765",
     "exception": false,
     "start_time": "2022-08-09T02:24:29.506839",
     "status": "completed"
    },
    "tags": []
   },
   "outputs": [
    {
     "name": "stdout",
     "output_type": "stream",
     "text": [
      "1\n",
      "1\n",
      "-3\n",
      "-2\n"
     ]
    }
   ],
   "source": [
    "# Uncomment and run this code to get started!\n",
    "print(int(1.2321))\n",
    "print(int(1.747))\n",
    "print(int(-3.94535))\n",
    "print(int(-2.19774))"
   ]
  },
  {
   "cell_type": "markdown",
   "id": "d64b306c",
   "metadata": {
    "papermill": {
     "duration": 0.006231,
     "end_time": "2022-08-09T02:24:29.535480",
     "exception": false,
     "start_time": "2022-08-09T02:24:29.529249",
     "status": "completed"
    },
    "tags": []
   },
   "source": [
    "Once you have an answer, run the code cell below to see the solution.  Viewing the solution will give you credit for answering the problem."
   ]
  },
  {
   "cell_type": "code",
   "execution_count": 4,
   "id": "2ed22526",
   "metadata": {
    "execution": {
     "iopub.execute_input": "2022-08-09T02:24:29.550147Z",
     "iopub.status.busy": "2022-08-09T02:24:29.549424Z",
     "iopub.status.idle": "2022-08-09T02:24:29.560157Z",
     "shell.execute_reply": "2022-08-09T02:24:29.559030Z"
    },
    "papermill": {
     "duration": 0.020449,
     "end_time": "2022-08-09T02:24:29.562283",
     "exception": false,
     "start_time": "2022-08-09T02:24:29.541834",
     "status": "completed"
    },
    "tags": []
   },
   "outputs": [
    {
     "data": {
      "application/javascript": [
       "parent.postMessage({\"jupyterEvent\": \"custom.exercise_interaction\", \"data\": {\"outcomeType\": 1, \"valueTowardsCompletion\": 0.2, \"interactionType\": 1, \"questionType\": 4, \"questionId\": \"1_FloatToInt\", \"learnToolsVersion\": \"0.3.4\", \"failureMessage\": \"\", \"exceptionClass\": \"\", \"trace\": \"\"}}, \"*\")"
      ],
      "text/plain": [
       "<IPython.core.display.Javascript object>"
      ]
     },
     "metadata": {},
     "output_type": "display_data"
    },
    {
     "data": {
      "text/markdown": [
       "<span style=\"color:#33cc33\">Correct:</span> \n",
       "\n",
       "Negative floats are always rounded UP to the closest integer (for instance, both -1.1 and -1.9 are rounded up to -1). Positive floats are always rounded DOWN to the closest integer (for instance, 2.1 and 2.9 are rounded down to 2)."
      ],
      "text/plain": [
       "Correct: \n",
       "\n",
       "Negative floats are always rounded UP to the closest integer (for instance, both -1.1 and -1.9 are rounded up to -1). Positive floats are always rounded DOWN to the closest integer (for instance, 2.1 and 2.9 are rounded down to 2)."
      ]
     },
     "metadata": {},
     "output_type": "display_data"
    }
   ],
   "source": [
    "# Check your answer (Run this code cell to receive credit!)\n",
    "q1.check()"
   ]
  },
  {
   "cell_type": "markdown",
   "id": "9d8d0d4f",
   "metadata": {
    "papermill": {
     "duration": 0.006315,
     "end_time": "2022-08-09T02:24:29.575425",
     "exception": false,
     "start_time": "2022-08-09T02:24:29.569110",
     "status": "completed"
    },
    "tags": []
   },
   "source": [
    "# Question 2\n",
    "\n",
    "In the tutorial, you learned about booleans (which can take a value of `True` or `False`), in addition to integers, floats, and strings.  For this question, your goal is to determine what happens when you multiply a boolean by any of these data types.  Specifically, \n",
    "- What happens when you multiply an integer or float by `True`?  What happens when you multiply them by `False`?  How does the answer change if the numbers are positive or negative?\n",
    "- What happens when you multiply a string by `True`?  By `False`?\n",
    "\n",
    "Use the next code cell for your investigation. "
   ]
  },
  {
   "cell_type": "code",
   "execution_count": 5,
   "id": "daad8bcd",
   "metadata": {
    "execution": {
     "iopub.execute_input": "2022-08-09T02:24:29.590369Z",
     "iopub.status.busy": "2022-08-09T02:24:29.589983Z",
     "iopub.status.idle": "2022-08-09T02:24:29.596242Z",
     "shell.execute_reply": "2022-08-09T02:24:29.595008Z"
    },
    "papermill": {
     "duration": 0.01703,
     "end_time": "2022-08-09T02:24:29.599013",
     "exception": false,
     "start_time": "2022-08-09T02:24:29.581983",
     "status": "completed"
    },
    "tags": []
   },
   "outputs": [
    {
     "name": "stdout",
     "output_type": "stream",
     "text": [
      "3\n",
      "-3.1\n",
      "<class 'str'>\n",
      "0\n"
     ]
    }
   ],
   "source": [
    "# Uncomment and run this code to get started!\n",
    "print(3 * True)\n",
    "print(-3.1 * True)\n",
    "print(type(\"abc\" * False))\n",
    "print(len(\"abc\" * False))"
   ]
  },
  {
   "cell_type": "markdown",
   "id": "91564c03",
   "metadata": {
    "papermill": {
     "duration": 0.006648,
     "end_time": "2022-08-09T02:24:29.613342",
     "exception": false,
     "start_time": "2022-08-09T02:24:29.606694",
     "status": "completed"
    },
    "tags": []
   },
   "source": [
    "Once you have an answer, run the code cell below to see the solution.  Viewing the solution will give you credit for answering the problem."
   ]
  },
  {
   "cell_type": "code",
   "execution_count": 6,
   "id": "4f5e56ca",
   "metadata": {
    "execution": {
     "iopub.execute_input": "2022-08-09T02:24:29.629047Z",
     "iopub.status.busy": "2022-08-09T02:24:29.628619Z",
     "iopub.status.idle": "2022-08-09T02:24:29.635620Z",
     "shell.execute_reply": "2022-08-09T02:24:29.634782Z"
    },
    "papermill": {
     "duration": 0.017676,
     "end_time": "2022-08-09T02:24:29.637946",
     "exception": false,
     "start_time": "2022-08-09T02:24:29.620270",
     "status": "completed"
    },
    "tags": []
   },
   "outputs": [
    {
     "data": {
      "application/javascript": [
       "parent.postMessage({\"jupyterEvent\": \"custom.exercise_interaction\", \"data\": {\"outcomeType\": 1, \"valueTowardsCompletion\": 0.2, \"interactionType\": 1, \"questionType\": 4, \"questionId\": \"2_MultiplyBooleans\", \"learnToolsVersion\": \"0.3.4\", \"failureMessage\": \"\", \"exceptionClass\": \"\", \"trace\": \"\"}}, \"*\")"
      ],
      "text/plain": [
       "<IPython.core.display.Javascript object>"
      ]
     },
     "metadata": {},
     "output_type": "display_data"
    },
    {
     "data": {
      "text/markdown": [
       "<span style=\"color:#33cc33\">Correct:</span> \n",
       "\n",
       "When you multiple an integer or float by a boolean with value `True`, it just returns that same integer or float (and is equivalent to multiplying by 1).  If you multiply an integer or float by a boolean with value `False`, it always returns 0.  This is true for both positive and negative numbers.  If you multiply a string by a boolean with value `True`, it just returns that same string.  And if you multiply a string by a boolean with value `False`, it returns an empty string (or a string with length zero)."
      ],
      "text/plain": [
       "Correct: \n",
       "\n",
       "When you multiple an integer or float by a boolean with value `True`, it just returns that same integer or float (and is equivalent to multiplying by 1).  If you multiply an integer or float by a boolean with value `False`, it always returns 0.  This is true for both positive and negative numbers.  If you multiply a string by a boolean with value `True`, it just returns that same string.  And if you multiply a string by a boolean with value `False`, it returns an empty string (or a string with length zero)."
      ]
     },
     "metadata": {},
     "output_type": "display_data"
    }
   ],
   "source": [
    "# Check your answer (Run this code cell to receive credit!)\n",
    "q2.check()"
   ]
  },
  {
   "cell_type": "markdown",
   "id": "2ece3945",
   "metadata": {
    "papermill": {
     "duration": 0.006802,
     "end_time": "2022-08-09T02:24:29.652766",
     "exception": false,
     "start_time": "2022-08-09T02:24:29.645964",
     "status": "completed"
    },
    "tags": []
   },
   "source": [
    "# Question 3\n",
    "\n",
    "In this question, you will build off your work from the previous exercise to write a function that estimates the value of a house.\n",
    "\n",
    "Use the next code cell to create a function `get_expected_cost` that takes as input three variables:\n",
    "- `beds` - number of bedrooms (data type float)\n",
    "- `baths` - number of bathrooms (data type float)\n",
    "- `has_basement` - whether or not the house has a basement (data type boolean)\n",
    "\n",
    "It should return the expected cost of a house with those characteristics. Assume that:\n",
    "- the expected cost for a house with 0 bedrooms and 0 bathrooms, and no basement is 80000, \n",
    "- each bedroom adds 30000 to the expected cost,\n",
    "- each bathroom adds 10000 to the expected cost, and\n",
    "- a basement adds 40000 to the expected cost.\n",
    "\n",
    "For instance,\n",
    "- a house with 1 bedroom, 1 bathroom, and no basement has an expected cost of 80000 + 30000 + 10000 = 120000.  This value will be calculated with `get_expected_cost(1, 1, False)`.\n",
    "- a house with 2 bedrooms, 1 bathroom, and a basement has an expected cost of 80000 + 2*30000 + 10000 + 40000 = 190000.  This value will be calculated with `get_expected_cost(2, 1, True)`.\n",
    "\n",
    "Remember you can always get a hint by uncommenting `q3.hint()` in the code cell following the next!"
   ]
  },
  {
   "cell_type": "code",
   "execution_count": 7,
   "id": "51571f18",
   "metadata": {
    "execution": {
     "iopub.execute_input": "2022-08-09T02:24:29.669419Z",
     "iopub.status.busy": "2022-08-09T02:24:29.669048Z",
     "iopub.status.idle": "2022-08-09T02:24:29.678587Z",
     "shell.execute_reply": "2022-08-09T02:24:29.677520Z"
    },
    "papermill": {
     "duration": 0.020482,
     "end_time": "2022-08-09T02:24:29.680756",
     "exception": false,
     "start_time": "2022-08-09T02:24:29.660274",
     "status": "completed"
    },
    "tags": []
   },
   "outputs": [
    {
     "data": {
      "application/javascript": [
       "parent.postMessage({\"jupyterEvent\": \"custom.exercise_interaction\", \"data\": {\"outcomeType\": 1, \"valueTowardsCompletion\": 0.2, \"interactionType\": 1, \"questionType\": 2, \"questionId\": \"3_EstimateHouseValueBool\", \"learnToolsVersion\": \"0.3.4\", \"failureMessage\": \"\", \"exceptionClass\": \"\", \"trace\": \"\"}}, \"*\")"
      ],
      "text/plain": [
       "<IPython.core.display.Javascript object>"
      ]
     },
     "metadata": {},
     "output_type": "display_data"
    },
    {
     "data": {
      "text/markdown": [
       "<span style=\"color:#33cc33\">Correct</span>"
      ],
      "text/plain": [
       "Correct"
      ]
     },
     "metadata": {},
     "output_type": "display_data"
    }
   ],
   "source": [
    "# TODO: Complete the function\n",
    "def get_expected_cost(beds, baths, has_basement):\n",
    "    value = beds * 30000 + baths * 10000 + has_basement * 40000 + 80000\n",
    "    return value\n",
    "\n",
    "# Check your answer \n",
    "q3.check()"
   ]
  },
  {
   "cell_type": "code",
   "execution_count": 8,
   "id": "57e698c7",
   "metadata": {
    "execution": {
     "iopub.execute_input": "2022-08-09T02:24:29.697704Z",
     "iopub.status.busy": "2022-08-09T02:24:29.696931Z",
     "iopub.status.idle": "2022-08-09T02:24:29.701610Z",
     "shell.execute_reply": "2022-08-09T02:24:29.700770Z"
    },
    "papermill": {
     "duration": 0.015815,
     "end_time": "2022-08-09T02:24:29.703960",
     "exception": false,
     "start_time": "2022-08-09T02:24:29.688145",
     "status": "completed"
    },
    "tags": []
   },
   "outputs": [],
   "source": [
    "# Uncomment to see a hint\n",
    "#q3.hint()\n",
    "\n",
    "# Uncomment to view the solution\n",
    "#q3.solution()"
   ]
  },
  {
   "cell_type": "markdown",
   "id": "39e413f3",
   "metadata": {
    "papermill": {
     "duration": 0.007178,
     "end_time": "2022-08-09T02:24:29.718599",
     "exception": false,
     "start_time": "2022-08-09T02:24:29.711421",
     "status": "completed"
    },
    "tags": []
   },
   "source": [
    "# Question 4\n",
    "\n",
    "We'll continue our study of boolean arithmetic.  For this question, your task is to provide a description of what happpens when you add booleans. \n",
    "\n",
    "Use the next code cell for your investigation.  Feel free to add or remove any lines of code - use it as your workspace!"
   ]
  },
  {
   "cell_type": "code",
   "execution_count": 9,
   "id": "4fba8871",
   "metadata": {
    "execution": {
     "iopub.execute_input": "2022-08-09T02:24:29.735592Z",
     "iopub.status.busy": "2022-08-09T02:24:29.734818Z",
     "iopub.status.idle": "2022-08-09T02:24:29.741945Z",
     "shell.execute_reply": "2022-08-09T02:24:29.740562Z"
    },
    "papermill": {
     "duration": 0.01815,
     "end_time": "2022-08-09T02:24:29.744243",
     "exception": false,
     "start_time": "2022-08-09T02:24:29.726093",
     "status": "completed"
    },
    "tags": []
   },
   "outputs": [
    {
     "name": "stdout",
     "output_type": "stream",
     "text": [
      "0\n",
      "1\n",
      "1\n",
      "2\n",
      "3\n"
     ]
    }
   ],
   "source": [
    "#prints 0\n",
    "print(False + False)\n",
    "# prints 1\n",
    "print(True + False)\n",
    "#prints 1\n",
    "print(False + True)\n",
    "#prints 2\n",
    "print(True + True)\n",
    "#prints 3\n",
    "print(False + True + True + True)"
   ]
  },
  {
   "cell_type": "markdown",
   "id": "7a83bce3",
   "metadata": {
    "papermill": {
     "duration": 0.007097,
     "end_time": "2022-08-09T02:24:29.758639",
     "exception": false,
     "start_time": "2022-08-09T02:24:29.751542",
     "status": "completed"
    },
    "tags": []
   },
   "source": [
    "Once you have an answer, run the code cell below to see the solution.  Viewing the solution will give you credit for answering the problem."
   ]
  },
  {
   "cell_type": "code",
   "execution_count": 10,
   "id": "69d3cb28",
   "metadata": {
    "execution": {
     "iopub.execute_input": "2022-08-09T02:24:29.775755Z",
     "iopub.status.busy": "2022-08-09T02:24:29.774983Z",
     "iopub.status.idle": "2022-08-09T02:24:29.783901Z",
     "shell.execute_reply": "2022-08-09T02:24:29.782948Z"
    },
    "papermill": {
     "duration": 0.020211,
     "end_time": "2022-08-09T02:24:29.786268",
     "exception": false,
     "start_time": "2022-08-09T02:24:29.766057",
     "status": "completed"
    },
    "tags": []
   },
   "outputs": [
    {
     "data": {
      "application/javascript": [
       "parent.postMessage({\"jupyterEvent\": \"custom.exercise_interaction\", \"data\": {\"outcomeType\": 1, \"valueTowardsCompletion\": 0.2, \"interactionType\": 1, \"questionType\": 4, \"questionId\": \"4_AddingBooleans\", \"learnToolsVersion\": \"0.3.4\", \"failureMessage\": \"\", \"exceptionClass\": \"\", \"trace\": \"\"}}, \"*\")"
      ],
      "text/plain": [
       "<IPython.core.display.Javascript object>"
      ]
     },
     "metadata": {},
     "output_type": "display_data"
    },
    {
     "data": {
      "text/markdown": [
       "<span style=\"color:#33cc33\">Correct:</span> \n",
       "\n",
       "When you add booleans, adding `False` is equivalent to adding 0, and adding `True` is equivalent to adding 1."
      ],
      "text/plain": [
       "Correct: \n",
       "\n",
       "When you add booleans, adding `False` is equivalent to adding 0, and adding `True` is equivalent to adding 1."
      ]
     },
     "metadata": {},
     "output_type": "display_data"
    }
   ],
   "source": [
    "# Check your answer (Run this code cell to receive credit!)\n",
    "q4.check()"
   ]
  },
  {
   "cell_type": "markdown",
   "id": "fc4dcf5a",
   "metadata": {
    "papermill": {
     "duration": 0.00786,
     "end_time": "2022-08-09T02:24:29.802349",
     "exception": false,
     "start_time": "2022-08-09T02:24:29.794489",
     "status": "completed"
    },
    "tags": []
   },
   "source": [
    "# 🌶️ Question 5\n",
    "\n",
    "You own an online shop where you sell rings with custom engravings.  You offer both gold plated and solid gold rings.\n",
    "- Gold plated rings have a base cost of \\\\$50, and you charge \\\\$7 per engraved unit.  \n",
    "- Solid gold rings have a base cost of \\\\$100, and you charge \\\\$10 per engraved unit.\n",
    "- Spaces and punctuation are counted as engraved units.\n",
    "\n",
    "Write a function `cost_of_project()` that takes two arguments:\n",
    "- `engraving` - a Python string with the text of the engraving\n",
    "- `solid_gold` - a Boolean that indicates whether the ring is solid gold\n",
    "\n",
    "It should return the cost of the project.  This question should be fairly challenging, and you may need a hint."
   ]
  },
  {
   "cell_type": "code",
   "execution_count": 11,
   "id": "fa3dc9ab",
   "metadata": {
    "execution": {
     "iopub.execute_input": "2022-08-09T02:24:29.820575Z",
     "iopub.status.busy": "2022-08-09T02:24:29.819744Z",
     "iopub.status.idle": "2022-08-09T02:24:29.830332Z",
     "shell.execute_reply": "2022-08-09T02:24:29.829386Z"
    },
    "papermill": {
     "duration": 0.022443,
     "end_time": "2022-08-09T02:24:29.832658",
     "exception": false,
     "start_time": "2022-08-09T02:24:29.810215",
     "status": "completed"
    },
    "tags": []
   },
   "outputs": [
    {
     "data": {
      "application/javascript": [
       "parent.postMessage({\"jupyterEvent\": \"custom.exercise_interaction\", \"data\": {\"outcomeType\": 1, \"valueTowardsCompletion\": 0.2, \"interactionType\": 1, \"questionType\": 2, \"questionId\": \"5_CustomEngravings\", \"learnToolsVersion\": \"0.3.4\", \"failureMessage\": \"\", \"exceptionClass\": \"\", \"trace\": \"\"}}, \"*\")"
      ],
      "text/plain": [
       "<IPython.core.display.Javascript object>"
      ]
     },
     "metadata": {},
     "output_type": "display_data"
    },
    {
     "data": {
      "text/markdown": [
       "<span style=\"color:#33cc33\">Correct</span>"
      ],
      "text/plain": [
       "Correct"
      ]
     },
     "metadata": {},
     "output_type": "display_data"
    }
   ],
   "source": [
    "def cost_of_project(engraving, solid_gold):\n",
    "    cost = 50 + 7 * len(engraving) * (not solid_gold) + solid_gold * 50 + 10 * len(engraving) * solid_gold\n",
    "    return cost\n",
    "\n",
    "# Check your answer\n",
    "q5.check()"
   ]
  },
  {
   "cell_type": "code",
   "execution_count": 12,
   "id": "a57db89c",
   "metadata": {
    "execution": {
     "iopub.execute_input": "2022-08-09T02:24:29.850830Z",
     "iopub.status.busy": "2022-08-09T02:24:29.850377Z",
     "iopub.status.idle": "2022-08-09T02:24:29.855221Z",
     "shell.execute_reply": "2022-08-09T02:24:29.853903Z"
    },
    "papermill": {
     "duration": 0.017205,
     "end_time": "2022-08-09T02:24:29.857977",
     "exception": false,
     "start_time": "2022-08-09T02:24:29.840772",
     "status": "completed"
    },
    "tags": []
   },
   "outputs": [],
   "source": [
    "# Uncomment to see a hint\n",
    "#q5.hint()\n",
    "\n",
    "# Uncomment to view the solution\n",
    "#q5.solution()"
   ]
  },
  {
   "cell_type": "markdown",
   "id": "8a08e45e",
   "metadata": {
    "papermill": {
     "duration": 0.007829,
     "end_time": "2022-08-09T02:24:29.874016",
     "exception": false,
     "start_time": "2022-08-09T02:24:29.866187",
     "status": "completed"
    },
    "tags": []
   },
   "source": [
    "Run the next code cell to calculate the cost of engraving `Charlie+Denver` on a solid gold ring."
   ]
  },
  {
   "cell_type": "code",
   "execution_count": 13,
   "id": "4f91953a",
   "metadata": {
    "execution": {
     "iopub.execute_input": "2022-08-09T02:24:29.892347Z",
     "iopub.status.busy": "2022-08-09T02:24:29.891550Z",
     "iopub.status.idle": "2022-08-09T02:24:29.898445Z",
     "shell.execute_reply": "2022-08-09T02:24:29.896773Z"
    },
    "papermill": {
     "duration": 0.019787,
     "end_time": "2022-08-09T02:24:29.901820",
     "exception": false,
     "start_time": "2022-08-09T02:24:29.882033",
     "status": "completed"
    },
    "tags": []
   },
   "outputs": [
    {
     "name": "stdout",
     "output_type": "stream",
     "text": [
      "240\n"
     ]
    }
   ],
   "source": [
    "project_one = cost_of_project(\"Charlie+Denver\", True)\n",
    "print(project_one)"
   ]
  },
  {
   "cell_type": "markdown",
   "id": "68e512dd",
   "metadata": {
    "papermill": {
     "duration": 0.007825,
     "end_time": "2022-08-09T02:24:29.918030",
     "exception": false,
     "start_time": "2022-08-09T02:24:29.910205",
     "status": "completed"
    },
    "tags": []
   },
   "source": [
    "Use the next code cell to calculate the cost of engraving `08/10/2000` on a gold plated ring."
   ]
  },
  {
   "cell_type": "code",
   "execution_count": 14,
   "id": "cdc985dc",
   "metadata": {
    "execution": {
     "iopub.execute_input": "2022-08-09T02:24:29.936231Z",
     "iopub.status.busy": "2022-08-09T02:24:29.935840Z",
     "iopub.status.idle": "2022-08-09T02:24:29.941117Z",
     "shell.execute_reply": "2022-08-09T02:24:29.939884Z"
    },
    "papermill": {
     "duration": 0.018408,
     "end_time": "2022-08-09T02:24:29.944699",
     "exception": false,
     "start_time": "2022-08-09T02:24:29.926291",
     "status": "completed"
    },
    "tags": []
   },
   "outputs": [
    {
     "name": "stdout",
     "output_type": "stream",
     "text": [
      "120\n"
     ]
    }
   ],
   "source": [
    "project_two = cost_of_project(\"08/10/2000\", False)\n",
    "print(project_two)"
   ]
  },
  {
   "cell_type": "markdown",
   "id": "42085a64",
   "metadata": {
    "papermill": {
     "duration": 0.007787,
     "end_time": "2022-08-09T02:24:29.960480",
     "exception": false,
     "start_time": "2022-08-09T02:24:29.952693",
     "status": "completed"
    },
    "tags": []
   },
   "source": [
    "# Keep going\n",
    "\n",
    "Continue to the next lesson to **[learn about conditions and conditional statements](https://www.kaggle.com/alexisbcook/conditions-and-conditional-statements)**."
   ]
  },
  {
   "cell_type": "markdown",
   "id": "086a0383",
   "metadata": {
    "papermill": {
     "duration": 0.00768,
     "end_time": "2022-08-09T02:24:29.976272",
     "exception": false,
     "start_time": "2022-08-09T02:24:29.968592",
     "status": "completed"
    },
    "tags": []
   },
   "source": [
    "---\n",
    "\n",
    "\n",
    "\n",
    "\n",
    "*Have questions or comments? Visit the [course discussion forum](https://www.kaggle.com/learn/intro-to-programming/discussion) to chat with other learners.*"
   ]
  }
 ],
 "metadata": {
  "kernelspec": {
   "display_name": "Python 3",
   "language": "python",
   "name": "python3"
  },
  "language_info": {
   "codemirror_mode": {
    "name": "ipython",
    "version": 3
   },
   "file_extension": ".py",
   "mimetype": "text/x-python",
   "name": "python",
   "nbconvert_exporter": "python",
   "pygments_lexer": "ipython3",
   "version": "3.7.12"
  },
  "papermill": {
   "default_parameters": {},
   "duration": 11.066977,
   "end_time": "2022-08-09T02:24:30.605559",
   "environment_variables": {},
   "exception": null,
   "input_path": "__notebook__.ipynb",
   "output_path": "__notebook__.ipynb",
   "parameters": {},
   "start_time": "2022-08-09T02:24:19.538582",
   "version": "2.3.4"
  }
 },
 "nbformat": 4,
 "nbformat_minor": 5
}
